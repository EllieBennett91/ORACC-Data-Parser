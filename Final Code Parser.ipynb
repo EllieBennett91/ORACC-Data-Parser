{
 "cells": [
  {
   "cell_type": "code",
   "execution_count": 1,
   "metadata": {
    "scrolled": true
   },
   "outputs": [
    {
     "name": "stdout",
     "output_type": "stream",
     "text": [
      "Project(s): adsd/adart1, adsd/adart2, adsd/adart3, aemw/alalakh/idrimi, akklove,  ario, blms, cams/anzu, cams/gkab, cams/selbi, cmawro/cmawr1, cmawro/cmawr2, cmawro/cmawr3, cmawro/maqlu, glass, hbtin, obmc, riao, ribo/babylon10, ribo/babylon2, ribo/babylon3, ribo/babylon4, ribo/babylon5,  ribo/babylon6, ribo/babylon7, ribo/babylon8, rimanum, rinap/rinap1, rinap/rinap3, rinap/rinap4, rinap/rinap5, saao/saa01, saao/saa02, saao/saa03, saao/saa04, saao/saa05, saao/saa06, saao/saa07, saao/saa08, saao/saa09, saao/saa10, saao/saa11, saao/saa12, saao/saa13, saao/saa14, saao/saa15, saao/saa16, saao/saa17, saao/saa18, saao/saa19, saao/saa20, saao/saa21, suhu\n",
      "Saving http://oracc.museum.upenn.edu/rinap/rinap1/json/rinap-rinap1.zip as jsonzip/rinap-rinap1.zip\n"
     ]
    },
    {
     "data": {
      "application/vnd.jupyter.widget-view+json": {
       "model_id": "b9f7fc7b91a84f48b17fd0361c15f091",
       "version_major": 2,
       "version_minor": 0
      },
      "text/plain": [
       "HBox(children=(IntProgress(value=1, bar_style='info', description='rinap/rinap1', max=1, style=ProgressStyle(d…"
      ]
     },
     "metadata": {},
     "output_type": "display_data"
    },
    {
     "name": "stdout",
     "output_type": "stream",
     "text": [
      "\n",
      "Saving http://oracc.museum.upenn.edu/ario/json/ario.zip as jsonzip/ario.zip\n"
     ]
    },
    {
     "data": {
      "application/vnd.jupyter.widget-view+json": {
       "model_id": "c9814b1ff4704772b1593197d4d68a90",
       "version_major": 2,
       "version_minor": 0
      },
      "text/plain": [
       "HBox(children=(IntProgress(value=1, bar_style='info', description='ario', max=1, style=ProgressStyle(descripti…"
      ]
     },
     "metadata": {},
     "output_type": "display_data"
    },
    {
     "name": "stdout",
     "output_type": "stream",
     "text": [
      "\n",
      "Saving http://oracc.museum.upenn.edu/cams/gkab/json/cams-gkab.zip as jsonzip/cams-gkab.zip\n"
     ]
    },
    {
     "data": {
      "application/vnd.jupyter.widget-view+json": {
       "model_id": "6b68efd47b474927a1dbd7f44f53f22a",
       "version_major": 2,
       "version_minor": 0
      },
      "text/plain": [
       "HBox(children=(IntProgress(value=1, bar_style='info', description='cams/gkab', max=1, style=ProgressStyle(desc…"
      ]
     },
     "metadata": {},
     "output_type": "display_data"
    },
    {
     "name": "stdout",
     "output_type": "stream",
     "text": [
      "\n",
      "Saving http://oracc.museum.upenn.edu/ribo/babylon10/json/ribo-babylon10.zip as jsonzip/ribo-babylon10.zip\n"
     ]
    },
    {
     "data": {
      "application/vnd.jupyter.widget-view+json": {
       "model_id": "a967abc2f6fb46a39729a15f1c278882",
       "version_major": 2,
       "version_minor": 0
      },
      "text/plain": [
       "HBox(children=(IntProgress(value=1, bar_style='info', description='ribo/babylon10', max=1, style=ProgressStyle…"
      ]
     },
     "metadata": {},
     "output_type": "display_data"
    },
    {
     "name": "stdout",
     "output_type": "stream",
     "text": [
      "\n",
      "Saving http://oracc.museum.upenn.edu/saao/saa03/json/saao-saa03.zip as jsonzip/saao-saa03.zip\n"
     ]
    },
    {
     "data": {
      "application/vnd.jupyter.widget-view+json": {
       "model_id": "7a18cfb24ca64a3fb72c57180b1f51bf",
       "version_major": 2,
       "version_minor": 0
      },
      "text/plain": [
       "HBox(children=(IntProgress(value=1, bar_style='info', description='saao/saa03', max=1, style=ProgressStyle(des…"
      ]
     },
     "metadata": {},
     "output_type": "display_data"
    },
    {
     "name": "stdout",
     "output_type": "stream",
     "text": [
      "\n",
      "Saving http://oracc.museum.upenn.edu/rimanum/json/rimanum.zip as jsonzip/rimanum.zip\n"
     ]
    },
    {
     "data": {
      "application/vnd.jupyter.widget-view+json": {
       "model_id": "a25810f775af48a2a1d2d39d9ed5a26d",
       "version_major": 2,
       "version_minor": 0
      },
      "text/plain": [
       "HBox(children=(IntProgress(value=1, bar_style='info', description='rimanum', max=1, style=ProgressStyle(descri…"
      ]
     },
     "metadata": {},
     "output_type": "display_data"
    },
    {
     "name": "stdout",
     "output_type": "stream",
     "text": [
      "\n",
      "Saving http://oracc.museum.upenn.edu/suhu/json/suhu.zip as jsonzip/suhu.zip\n"
     ]
    },
    {
     "data": {
      "application/vnd.jupyter.widget-view+json": {
       "model_id": "25c83d1906d24c4f9a27ba8bfa0825f0",
       "version_major": 2,
       "version_minor": 0
      },
      "text/plain": [
       "HBox(children=(IntProgress(value=1, bar_style='info', description='suhu', max=1, style=ProgressStyle(descripti…"
      ]
     },
     "metadata": {},
     "output_type": "display_data"
    },
    {
     "name": "stdout",
     "output_type": "stream",
     "text": [
      "\n",
      "Saving http://oracc.museum.upenn.edu/rinap/rinap3/json/rinap-rinap3.zip as jsonzip/rinap-rinap3.zip\n"
     ]
    },
    {
     "data": {
      "application/vnd.jupyter.widget-view+json": {
       "model_id": "cf2e028b417240d7a9218d3df4436e96",
       "version_major": 2,
       "version_minor": 0
      },
      "text/plain": [
       "HBox(children=(IntProgress(value=1, bar_style='info', description='rinap/rinap3', max=1, style=ProgressStyle(d…"
      ]
     },
     "metadata": {},
     "output_type": "display_data"
    },
    {
     "name": "stdout",
     "output_type": "stream",
     "text": [
      "\n",
      "Saving http://oracc.museum.upenn.edu/saao/saa06/json/saao-saa06.zip as jsonzip/saao-saa06.zip\n"
     ]
    },
    {
     "data": {
      "application/vnd.jupyter.widget-view+json": {
       "model_id": "c5c41b65ea2441a2b565cf72425fc3ce",
       "version_major": 2,
       "version_minor": 0
      },
      "text/plain": [
       "HBox(children=(IntProgress(value=1, bar_style='info', description='saao/saa06', max=1, style=ProgressStyle(des…"
      ]
     },
     "metadata": {},
     "output_type": "display_data"
    },
    {
     "name": "stdout",
     "output_type": "stream",
     "text": [
      "\n",
      "Saving http://oracc.museum.upenn.edu/saao/saa13/json/saao-saa13.zip as jsonzip/saao-saa13.zip\n"
     ]
    },
    {
     "data": {
      "application/vnd.jupyter.widget-view+json": {
       "model_id": "9e13fb5e58df4fbbb681eac82f66bce7",
       "version_major": 2,
       "version_minor": 0
      },
      "text/plain": [
       "HBox(children=(IntProgress(value=1, bar_style='info', description='saao/saa13', max=1, style=ProgressStyle(des…"
      ]
     },
     "metadata": {},
     "output_type": "display_data"
    },
    {
     "name": "stdout",
     "output_type": "stream",
     "text": [
      "\n",
      "Saving http://oracc.museum.upenn.edu/saao/saa17/json/saao-saa17.zip as jsonzip/saao-saa17.zip\n"
     ]
    },
    {
     "data": {
      "application/vnd.jupyter.widget-view+json": {
       "model_id": "8510357a156e4d2c9a17e9e649a25755",
       "version_major": 2,
       "version_minor": 0
      },
      "text/plain": [
       "HBox(children=(IntProgress(value=1, bar_style='info', description='saao/saa17', max=1, style=ProgressStyle(des…"
      ]
     },
     "metadata": {},
     "output_type": "display_data"
    },
    {
     "name": "stdout",
     "output_type": "stream",
     "text": [
      "\n",
      "Saving http://oracc.museum.upenn.edu/cmawro/cmawr2/json/cmawro-cmawr2.zip as jsonzip/cmawro-cmawr2.zip\n"
     ]
    },
    {
     "data": {
      "application/vnd.jupyter.widget-view+json": {
       "model_id": "8f512aee597446dcbcec0e5002d71b60",
       "version_major": 2,
       "version_minor": 0
      },
      "text/plain": [
       "HBox(children=(IntProgress(value=1, bar_style='info', description='cmawro/cmawr2', max=1, style=ProgressStyle(…"
      ]
     },
     "metadata": {},
     "output_type": "display_data"
    },
    {
     "name": "stdout",
     "output_type": "stream",
     "text": [
      "\n",
      "Saving http://oracc.museum.upenn.edu/riao/json/riao.zip as jsonzip/riao.zip\n"
     ]
    },
    {
     "data": {
      "application/vnd.jupyter.widget-view+json": {
       "model_id": "9e637c4c40c24b17ad2d01d5ff899034",
       "version_major": 2,
       "version_minor": 0
      },
      "text/plain": [
       "HBox(children=(IntProgress(value=1, bar_style='info', description='riao', max=1, style=ProgressStyle(descripti…"
      ]
     },
     "metadata": {},
     "output_type": "display_data"
    },
    {
     "name": "stdout",
     "output_type": "stream",
     "text": [
      "\n",
      "Saving http://oracc.museum.upenn.edu/rinap/rinap4/json/rinap-rinap4.zip as jsonzip/rinap-rinap4.zip\n"
     ]
    },
    {
     "data": {
      "application/vnd.jupyter.widget-view+json": {
       "model_id": "fefbb97c13a141228eef2a688dc5d55a",
       "version_major": 2,
       "version_minor": 0
      },
      "text/plain": [
       "HBox(children=(IntProgress(value=1, bar_style='info', description='rinap/rinap4', max=1, style=ProgressStyle(d…"
      ]
     },
     "metadata": {},
     "output_type": "display_data"
    },
    {
     "name": "stdout",
     "output_type": "stream",
     "text": [
      "\n",
      "Saving http://oracc.museum.upenn.edu/saao/saa12/json/saao-saa12.zip as jsonzip/saao-saa12.zip\n"
     ]
    },
    {
     "data": {
      "application/vnd.jupyter.widget-view+json": {
       "model_id": "171c3bb958264aae98f0d6cd9c9e84cc",
       "version_major": 2,
       "version_minor": 0
      },
      "text/plain": [
       "HBox(children=(IntProgress(value=1, bar_style='info', description='saao/saa12', max=1, style=ProgressStyle(des…"
      ]
     },
     "metadata": {},
     "output_type": "display_data"
    },
    {
     "name": "stdout",
     "output_type": "stream",
     "text": [
      "\n",
      "Saving http://oracc.museum.upenn.edu/saao/saa19/json/saao-saa19.zip as jsonzip/saao-saa19.zip\n"
     ]
    },
    {
     "data": {
      "application/vnd.jupyter.widget-view+json": {
       "model_id": "1e7bb0f8fed64033bf1b5d060fad7d34",
       "version_major": 2,
       "version_minor": 0
      },
      "text/plain": [
       "HBox(children=(IntProgress(value=1, bar_style='info', description='saao/saa19', max=1, style=ProgressStyle(des…"
      ]
     },
     "metadata": {},
     "output_type": "display_data"
    },
    {
     "name": "stdout",
     "output_type": "stream",
     "text": [
      "\n",
      "Saving http://oracc.museum.upenn.edu/adsd/adart1/json/adsd-adart1.zip as jsonzip/adsd-adart1.zip\n"
     ]
    },
    {
     "data": {
      "application/vnd.jupyter.widget-view+json": {
       "model_id": "a3d730c76b674ca3a3f8aca3ba102b92",
       "version_major": 2,
       "version_minor": 0
      },
      "text/plain": [
       "HBox(children=(IntProgress(value=1, bar_style='info', description='adsd/adart1', max=1, style=ProgressStyle(de…"
      ]
     },
     "metadata": {},
     "output_type": "display_data"
    },
    {
     "name": "stdout",
     "output_type": "stream",
     "text": [
      "\n",
      "Saving http://oracc.museum.upenn.edu/saao/saa18/json/saao-saa18.zip as jsonzip/saao-saa18.zip\n"
     ]
    },
    {
     "data": {
      "application/vnd.jupyter.widget-view+json": {
       "model_id": "ddc4d0377356409388c2928c8dc02460",
       "version_major": 2,
       "version_minor": 0
      },
      "text/plain": [
       "HBox(children=(IntProgress(value=1, bar_style='info', description='saao/saa18', max=1, style=ProgressStyle(des…"
      ]
     },
     "metadata": {},
     "output_type": "display_data"
    },
    {
     "name": "stdout",
     "output_type": "stream",
     "text": [
      "\n",
      "Saving http://oracc.museum.upenn.edu/saao/saa04/json/saao-saa04.zip as jsonzip/saao-saa04.zip\n"
     ]
    },
    {
     "data": {
      "application/vnd.jupyter.widget-view+json": {
       "model_id": "0218d38eb2b943dd89abd622cf1a974c",
       "version_major": 2,
       "version_minor": 0
      },
      "text/plain": [
       "HBox(children=(IntProgress(value=1, bar_style='info', description='saao/saa04', max=1, style=ProgressStyle(des…"
      ]
     },
     "metadata": {},
     "output_type": "display_data"
    },
    {
     "name": "stdout",
     "output_type": "stream",
     "text": [
      "\n",
      "Saving http://oracc.museum.upenn.edu/ribo/babylon5/json/ribo-babylon5.zip as jsonzip/ribo-babylon5.zip\n"
     ]
    },
    {
     "data": {
      "application/vnd.jupyter.widget-view+json": {
       "model_id": "6268f0331b7044ee944095f5e9c6b551",
       "version_major": 2,
       "version_minor": 0
      },
      "text/plain": [
       "HBox(children=(IntProgress(value=1, bar_style='info', description='ribo/babylon5', max=1, style=ProgressStyle(…"
      ]
     },
     "metadata": {},
     "output_type": "display_data"
    },
    {
     "name": "stdout",
     "output_type": "stream",
     "text": [
      "\n",
      "Saving http://oracc.museum.upenn.edu/glass/json/glass.zip as jsonzip/glass.zip\n"
     ]
    },
    {
     "data": {
      "application/vnd.jupyter.widget-view+json": {
       "model_id": "0a36aed87ea34bc99dd324ec0a986735",
       "version_major": 2,
       "version_minor": 0
      },
      "text/plain": [
       "HBox(children=(IntProgress(value=1, bar_style='info', description='glass', max=1, style=ProgressStyle(descript…"
      ]
     },
     "metadata": {},
     "output_type": "display_data"
    },
    {
     "name": "stdout",
     "output_type": "stream",
     "text": [
      "\n",
      "Saving http://oracc.museum.upenn.edu/adsd/adart2/json/adsd-adart2.zip as jsonzip/adsd-adart2.zip\n"
     ]
    },
    {
     "data": {
      "application/vnd.jupyter.widget-view+json": {
       "model_id": "c5c82314a7024226985b5c95a11c131c",
       "version_major": 2,
       "version_minor": 0
      },
      "text/plain": [
       "HBox(children=(IntProgress(value=1, bar_style='info', description='adsd/adart2', max=1, style=ProgressStyle(de…"
      ]
     },
     "metadata": {},
     "output_type": "display_data"
    },
    {
     "name": "stdout",
     "output_type": "stream",
     "text": [
      "\n",
      "Saving http://oracc.museum.upenn.edu/obmc/json/obmc.zip as jsonzip/obmc.zip\n"
     ]
    },
    {
     "data": {
      "application/vnd.jupyter.widget-view+json": {
       "model_id": "6dcebe50e71e4bd3bfdd3d7c4d323eb0",
       "version_major": 2,
       "version_minor": 0
      },
      "text/plain": [
       "HBox(children=(IntProgress(value=1, bar_style='info', description='obmc', max=1, style=ProgressStyle(descripti…"
      ]
     },
     "metadata": {},
     "output_type": "display_data"
    },
    {
     "name": "stdout",
     "output_type": "stream",
     "text": [
      "\n",
      "Saving http://oracc.museum.upenn.edu/cams/anzu/json/cams-anzu.zip as jsonzip/cams-anzu.zip\n"
     ]
    },
    {
     "data": {
      "application/vnd.jupyter.widget-view+json": {
       "model_id": "e17ddafbba2d46f5ada3ce84b7b22bd8",
       "version_major": 2,
       "version_minor": 0
      },
      "text/plain": [
       "HBox(children=(IntProgress(value=1, bar_style='info', description='cams/anzu', max=1, style=ProgressStyle(desc…"
      ]
     },
     "metadata": {},
     "output_type": "display_data"
    },
    {
     "name": "stdout",
     "output_type": "stream",
     "text": [
      "\n",
      "Saving http://oracc.museum.upenn.edu/cmawro/cmawr1/json/cmawro-cmawr1.zip as jsonzip/cmawro-cmawr1.zip\n"
     ]
    },
    {
     "data": {
      "application/vnd.jupyter.widget-view+json": {
       "model_id": "a979738d6d1042e8aa6d050719d6db0d",
       "version_major": 2,
       "version_minor": 0
      },
      "text/plain": [
       "HBox(children=(IntProgress(value=1, bar_style='info', description='cmawro/cmawr1', max=1, style=ProgressStyle(…"
      ]
     },
     "metadata": {},
     "output_type": "display_data"
    },
    {
     "name": "stdout",
     "output_type": "stream",
     "text": [
      "\n",
      "Saving http://oracc.museum.upenn.edu/saao/saa08/json/saao-saa08.zip as jsonzip/saao-saa08.zip\n"
     ]
    },
    {
     "data": {
      "application/vnd.jupyter.widget-view+json": {
       "model_id": "d0cd3b7edfe24146aaf45600918e21b8",
       "version_major": 2,
       "version_minor": 0
      },
      "text/plain": [
       "HBox(children=(IntProgress(value=1, bar_style='info', description='saao/saa08', max=1, style=ProgressStyle(des…"
      ]
     },
     "metadata": {},
     "output_type": "display_data"
    },
    {
     "name": "stdout",
     "output_type": "stream",
     "text": [
      "\n",
      "Saving http://oracc.museum.upenn.edu/saao/saa02/json/saao-saa02.zip as jsonzip/saao-saa02.zip\n"
     ]
    },
    {
     "data": {
      "application/vnd.jupyter.widget-view+json": {
       "model_id": "b658dc934982493c82d2407e7ae18ec7",
       "version_major": 2,
       "version_minor": 0
      },
      "text/plain": [
       "HBox(children=(IntProgress(value=1, bar_style='info', description='saao/saa02', max=1, style=ProgressStyle(des…"
      ]
     },
     "metadata": {},
     "output_type": "display_data"
    },
    {
     "name": "stdout",
     "output_type": "stream",
     "text": [
      "\n",
      "Saving http://oracc.museum.upenn.edu/saao/saa15/json/saao-saa15.zip as jsonzip/saao-saa15.zip\n"
     ]
    },
    {
     "data": {
      "application/vnd.jupyter.widget-view+json": {
       "model_id": "251ff9198d564c8e918911fb8caa8727",
       "version_major": 2,
       "version_minor": 0
      },
      "text/plain": [
       "HBox(children=(IntProgress(value=1, bar_style='info', description='saao/saa15', max=1, style=ProgressStyle(des…"
      ]
     },
     "metadata": {},
     "output_type": "display_data"
    },
    {
     "name": "stdout",
     "output_type": "stream",
     "text": [
      "\n",
      "Saving http://oracc.museum.upenn.edu/akklove/json/akklove.zip as jsonzip/akklove.zip\n"
     ]
    },
    {
     "data": {
      "application/vnd.jupyter.widget-view+json": {
       "model_id": "6fad111f19d844c6be13a255079d5eb2",
       "version_major": 2,
       "version_minor": 0
      },
      "text/plain": [
       "HBox(children=(IntProgress(value=1, bar_style='info', description='akklove', max=1, style=ProgressStyle(descri…"
      ]
     },
     "metadata": {},
     "output_type": "display_data"
    },
    {
     "name": "stdout",
     "output_type": "stream",
     "text": [
      "\n",
      "Saving http://oracc.museum.upenn.edu/cmawro/cmawr3/json/cmawro-cmawr3.zip as jsonzip/cmawro-cmawr3.zip\n"
     ]
    },
    {
     "data": {
      "application/vnd.jupyter.widget-view+json": {
       "model_id": "f092cfc0b20044128d698a643313d611",
       "version_major": 2,
       "version_minor": 0
      },
      "text/plain": [
       "HBox(children=(IntProgress(value=1, bar_style='info', description='cmawro/cmawr3', max=1, style=ProgressStyle(…"
      ]
     },
     "metadata": {},
     "output_type": "display_data"
    },
    {
     "name": "stdout",
     "output_type": "stream",
     "text": [
      "\n",
      "Saving http://oracc.museum.upenn.edu/saao/saa01/json/saao-saa01.zip as jsonzip/saao-saa01.zip\n"
     ]
    },
    {
     "data": {
      "application/vnd.jupyter.widget-view+json": {
       "model_id": "d4404c875ab547d0b55feb8ca3c79690",
       "version_major": 2,
       "version_minor": 0
      },
      "text/plain": [
       "HBox(children=(IntProgress(value=1, bar_style='info', description='saao/saa01', max=1, style=ProgressStyle(des…"
      ]
     },
     "metadata": {},
     "output_type": "display_data"
    },
    {
     "name": "stdout",
     "output_type": "stream",
     "text": [
      "\n",
      "Saving http://oracc.museum.upenn.edu/saao/saa10/json/saao-saa10.zip as jsonzip/saao-saa10.zip\n"
     ]
    },
    {
     "data": {
      "application/vnd.jupyter.widget-view+json": {
       "model_id": "ffa5cd5411854cc188400ca1e834bc95",
       "version_major": 2,
       "version_minor": 0
      },
      "text/plain": [
       "HBox(children=(IntProgress(value=1, bar_style='info', description='saao/saa10', max=1, style=ProgressStyle(des…"
      ]
     },
     "metadata": {},
     "output_type": "display_data"
    },
    {
     "name": "stdout",
     "output_type": "stream",
     "text": [
      "\n",
      "Saving http://oracc.museum.upenn.edu/saao/saa14/json/saao-saa14.zip as jsonzip/saao-saa14.zip\n"
     ]
    },
    {
     "data": {
      "application/vnd.jupyter.widget-view+json": {
       "model_id": "109ce2a180f74f6ea6f3a8c0eb8ce10c",
       "version_major": 2,
       "version_minor": 0
      },
      "text/plain": [
       "HBox(children=(IntProgress(value=1, bar_style='info', description='saao/saa14', max=1, style=ProgressStyle(des…"
      ]
     },
     "metadata": {},
     "output_type": "display_data"
    },
    {
     "name": "stdout",
     "output_type": "stream",
     "text": [
      "\n",
      "Saving http://oracc.museum.upenn.edu/saao/saa09/json/saao-saa09.zip as jsonzip/saao-saa09.zip\n"
     ]
    },
    {
     "data": {
      "application/vnd.jupyter.widget-view+json": {
       "model_id": "4ac528b0038c4da1ae8ac3a57742e104",
       "version_major": 2,
       "version_minor": 0
      },
      "text/plain": [
       "HBox(children=(IntProgress(value=1, bar_style='info', description='saao/saa09', max=1, style=ProgressStyle(des…"
      ]
     },
     "metadata": {},
     "output_type": "display_data"
    },
    {
     "name": "stdout",
     "output_type": "stream",
     "text": [
      "\n",
      "Saving http://oracc.museum.upenn.edu/hbtin/json/hbtin.zip as jsonzip/hbtin.zip\n"
     ]
    },
    {
     "data": {
      "application/vnd.jupyter.widget-view+json": {
       "model_id": "8ea63a4c145d41aeaf79219957a281cb",
       "version_major": 2,
       "version_minor": 0
      },
      "text/plain": [
       "HBox(children=(IntProgress(value=1, bar_style='info', description='hbtin', max=1, style=ProgressStyle(descript…"
      ]
     },
     "metadata": {},
     "output_type": "display_data"
    },
    {
     "name": "stdout",
     "output_type": "stream",
     "text": [
      "\n",
      "Saving http://oracc.museum.upenn.edu/saao/saa20/json/saao-saa20.zip as jsonzip/saao-saa20.zip\n"
     ]
    },
    {
     "data": {
      "application/vnd.jupyter.widget-view+json": {
       "model_id": "72925bd61cbf49059258767de3d02ef5",
       "version_major": 2,
       "version_minor": 0
      },
      "text/plain": [
       "HBox(children=(IntProgress(value=1, bar_style='info', description='saao/saa20', max=1, style=ProgressStyle(des…"
      ]
     },
     "metadata": {},
     "output_type": "display_data"
    },
    {
     "name": "stdout",
     "output_type": "stream",
     "text": [
      "\n",
      "Saving http://oracc.museum.upenn.edu/ribo/babylon3/json/ribo-babylon3.zip as jsonzip/ribo-babylon3.zip\n"
     ]
    },
    {
     "data": {
      "application/vnd.jupyter.widget-view+json": {
       "model_id": "817481558f104cad8c6e4ce64fb0e628",
       "version_major": 2,
       "version_minor": 0
      },
      "text/plain": [
       "HBox(children=(IntProgress(value=1, bar_style='info', description='ribo/babylon3', max=1, style=ProgressStyle(…"
      ]
     },
     "metadata": {},
     "output_type": "display_data"
    },
    {
     "name": "stdout",
     "output_type": "stream",
     "text": [
      "\n",
      "Saving http://oracc.museum.upenn.edu/saao/saa16/json/saao-saa16.zip as jsonzip/saao-saa16.zip\n"
     ]
    },
    {
     "data": {
      "application/vnd.jupyter.widget-view+json": {
       "model_id": "4ac67aea80c449a8b027e9c7a7204e83",
       "version_major": 2,
       "version_minor": 0
      },
      "text/plain": [
       "HBox(children=(IntProgress(value=1, bar_style='info', description='saao/saa16', max=1, style=ProgressStyle(des…"
      ]
     },
     "metadata": {},
     "output_type": "display_data"
    },
    {
     "name": "stdout",
     "output_type": "stream",
     "text": [
      "\n",
      "Saving http://oracc.museum.upenn.edu/ribo/babylon6/json/ribo-babylon6.zip as jsonzip/ribo-babylon6.zip\n"
     ]
    },
    {
     "data": {
      "application/vnd.jupyter.widget-view+json": {
       "model_id": "724eb86db109448493be20ed2254e0e4",
       "version_major": 2,
       "version_minor": 0
      },
      "text/plain": [
       "HBox(children=(IntProgress(value=1, bar_style='info', description='ribo/babylon6', max=1, style=ProgressStyle(…"
      ]
     },
     "metadata": {},
     "output_type": "display_data"
    },
    {
     "name": "stdout",
     "output_type": "stream",
     "text": [
      "\n",
      "Saving http://oracc.museum.upenn.edu/saao/saa07/json/saao-saa07.zip as jsonzip/saao-saa07.zip\n"
     ]
    },
    {
     "data": {
      "application/vnd.jupyter.widget-view+json": {
       "model_id": "289c10e1b2c3451ba54d8e8d8c1ef8cf",
       "version_major": 2,
       "version_minor": 0
      },
      "text/plain": [
       "HBox(children=(IntProgress(value=1, bar_style='info', description='saao/saa07', max=1, style=ProgressStyle(des…"
      ]
     },
     "metadata": {},
     "output_type": "display_data"
    },
    {
     "name": "stdout",
     "output_type": "stream",
     "text": [
      "\n",
      "Saving http://oracc.museum.upenn.edu/ribo/babylon2/json/ribo-babylon2.zip as jsonzip/ribo-babylon2.zip\n"
     ]
    },
    {
     "data": {
      "application/vnd.jupyter.widget-view+json": {
       "model_id": "06ddfaded67c44c4aeafa78540d0a9e4",
       "version_major": 2,
       "version_minor": 0
      },
      "text/plain": [
       "HBox(children=(IntProgress(value=1, bar_style='info', description='ribo/babylon2', max=1, style=ProgressStyle(…"
      ]
     },
     "metadata": {},
     "output_type": "display_data"
    },
    {
     "name": "stdout",
     "output_type": "stream",
     "text": [
      "\n",
      "Saving http://oracc.museum.upenn.edu/adsd/adart3/json/adsd-adart3.zip as jsonzip/adsd-adart3.zip\n"
     ]
    },
    {
     "data": {
      "application/vnd.jupyter.widget-view+json": {
       "model_id": "e1ba830b49724d1da046decad0c088c5",
       "version_major": 2,
       "version_minor": 0
      },
      "text/plain": [
       "HBox(children=(IntProgress(value=1, bar_style='info', description='adsd/adart3', max=1, style=ProgressStyle(de…"
      ]
     },
     "metadata": {},
     "output_type": "display_data"
    },
    {
     "name": "stdout",
     "output_type": "stream",
     "text": [
      "\n",
      "Saving http://oracc.museum.upenn.edu/ribo/babylon8/json/ribo-babylon8.zip as jsonzip/ribo-babylon8.zip\n"
     ]
    },
    {
     "data": {
      "application/vnd.jupyter.widget-view+json": {
       "model_id": "1c04a460d7e8430ea7a55121c02f8668",
       "version_major": 2,
       "version_minor": 0
      },
      "text/plain": [
       "HBox(children=(IntProgress(value=1, bar_style='info', description='ribo/babylon8', max=1, style=ProgressStyle(…"
      ]
     },
     "metadata": {},
     "output_type": "display_data"
    },
    {
     "name": "stdout",
     "output_type": "stream",
     "text": [
      "\n",
      "Saving http://oracc.museum.upenn.edu/ribo/babylon4/json/ribo-babylon4.zip as jsonzip/ribo-babylon4.zip\n"
     ]
    },
    {
     "data": {
      "application/vnd.jupyter.widget-view+json": {
       "model_id": "d8072aec3f8f449c97b4b398dc5974cb",
       "version_major": 2,
       "version_minor": 0
      },
      "text/plain": [
       "HBox(children=(IntProgress(value=1, bar_style='info', description='ribo/babylon4', max=1, style=ProgressStyle(…"
      ]
     },
     "metadata": {},
     "output_type": "display_data"
    },
    {
     "name": "stdout",
     "output_type": "stream",
     "text": [
      "\n",
      "Saving http://oracc.museum.upenn.edu/ribo/babylon7/json/ribo-babylon7.zip as jsonzip/ribo-babylon7.zip\n"
     ]
    },
    {
     "data": {
      "application/vnd.jupyter.widget-view+json": {
       "model_id": "f7ba06b5502c4ee191de352407342b23",
       "version_major": 2,
       "version_minor": 0
      },
      "text/plain": [
       "HBox(children=(IntProgress(value=1, bar_style='info', description='ribo/babylon7', max=1, style=ProgressStyle(…"
      ]
     },
     "metadata": {},
     "output_type": "display_data"
    },
    {
     "name": "stdout",
     "output_type": "stream",
     "text": [
      "\n",
      "Saving http://oracc.museum.upenn.edu/rinap/rinap5/json/rinap-rinap5.zip as jsonzip/rinap-rinap5.zip\n"
     ]
    },
    {
     "data": {
      "application/vnd.jupyter.widget-view+json": {
       "model_id": "dabfa52cf339472c83d93a60e7fd4910",
       "version_major": 2,
       "version_minor": 0
      },
      "text/plain": [
       "HBox(children=(IntProgress(value=1, bar_style='info', description='rinap/rinap5', max=1, style=ProgressStyle(d…"
      ]
     },
     "metadata": {},
     "output_type": "display_data"
    },
    {
     "name": "stdout",
     "output_type": "stream",
     "text": [
      "\n",
      "Saving http://oracc.museum.upenn.edu/aemw/alalakh/idrimi/json/aemw-alalakh-idrimi.zip as jsonzip/aemw-alalakh-idrimi.zip\n"
     ]
    },
    {
     "data": {
      "application/vnd.jupyter.widget-view+json": {
       "model_id": "573d1d9f4cd54e16bfba8a02e8960f07",
       "version_major": 2,
       "version_minor": 0
      },
      "text/plain": [
       "HBox(children=(IntProgress(value=1, bar_style='info', description='aemw/alalakh/idrimi', max=1, style=Progress…"
      ]
     },
     "metadata": {},
     "output_type": "display_data"
    },
    {
     "name": "stdout",
     "output_type": "stream",
     "text": [
      "\n",
      "Saving http://oracc.museum.upenn.edu/cmawro/maqlu/json/cmawro-maqlu.zip as jsonzip/cmawro-maqlu.zip\n"
     ]
    },
    {
     "data": {
      "application/vnd.jupyter.widget-view+json": {
       "model_id": "2b1bc413f4db4701ab409ff69902089b",
       "version_major": 2,
       "version_minor": 0
      },
      "text/plain": [
       "HBox(children=(IntProgress(value=1, bar_style='info', description='cmawro/maqlu', max=1, style=ProgressStyle(d…"
      ]
     },
     "metadata": {},
     "output_type": "display_data"
    },
    {
     "name": "stdout",
     "output_type": "stream",
     "text": [
      "\n",
      "Saving http://oracc.museum.upenn.edu/saao/saa21/json/saao-saa21.zip as jsonzip/saao-saa21.zip\n"
     ]
    },
    {
     "data": {
      "application/vnd.jupyter.widget-view+json": {
       "model_id": "df888f990bbd4474a22b55ed3079cb0d",
       "version_major": 2,
       "version_minor": 0
      },
      "text/plain": [
       "HBox(children=(IntProgress(value=1, bar_style='info', description='saao/saa21', max=1, style=ProgressStyle(des…"
      ]
     },
     "metadata": {},
     "output_type": "display_data"
    },
    {
     "name": "stdout",
     "output_type": "stream",
     "text": [
      "\n",
      "Saving http://oracc.museum.upenn.edu/saao/saa11/json/saao-saa11.zip as jsonzip/saao-saa11.zip\n"
     ]
    },
    {
     "data": {
      "application/vnd.jupyter.widget-view+json": {
       "model_id": "660b20c1d99f4dd7b90875fbec58f096",
       "version_major": 2,
       "version_minor": 0
      },
      "text/plain": [
       "HBox(children=(IntProgress(value=1, bar_style='info', description='saao/saa11', max=1, style=ProgressStyle(des…"
      ]
     },
     "metadata": {},
     "output_type": "display_data"
    },
    {
     "name": "stdout",
     "output_type": "stream",
     "text": [
      "\n",
      "Saving http://oracc.museum.upenn.edu/saao/saa05/json/saao-saa05.zip as jsonzip/saao-saa05.zip\n"
     ]
    },
    {
     "data": {
      "application/vnd.jupyter.widget-view+json": {
       "model_id": "a1071bf8d39845a2aea1446986679b10",
       "version_major": 2,
       "version_minor": 0
      },
      "text/plain": [
       "HBox(children=(IntProgress(value=1, bar_style='info', description='saao/saa05', max=1, style=ProgressStyle(des…"
      ]
     },
     "metadata": {},
     "output_type": "display_data"
    },
    {
     "name": "stdout",
     "output_type": "stream",
     "text": [
      "\n",
      "Saving http://oracc.museum.upenn.edu/blms/json/blms.zip as jsonzip/blms.zip\n"
     ]
    },
    {
     "data": {
      "application/vnd.jupyter.widget-view+json": {
       "model_id": "2c29aae124ca415e845bfcf1da4d105b",
       "version_major": 2,
       "version_minor": 0
      },
      "text/plain": [
       "HBox(children=(IntProgress(value=1, bar_style='info', description='blms', max=1, style=ProgressStyle(descripti…"
      ]
     },
     "metadata": {},
     "output_type": "display_data"
    },
    {
     "name": "stdout",
     "output_type": "stream",
     "text": [
      "\n",
      "Saving http://oracc.museum.upenn.edu/cams/selbi/json/cams-selbi.zip as jsonzip/cams-selbi.zip\n"
     ]
    },
    {
     "data": {
      "application/vnd.jupyter.widget-view+json": {
       "model_id": "83ec29e1df104907a7b1bbfa6ae83750",
       "version_major": 2,
       "version_minor": 0
      },
      "text/plain": [
       "HBox(children=(IntProgress(value=1, bar_style='info', description='cams/selbi', max=1, style=ProgressStyle(des…"
      ]
     },
     "metadata": {},
     "output_type": "display_data"
    },
    {
     "name": "stdout",
     "output_type": "stream",
     "text": [
      "\n"
     ]
    }
   ],
   "source": [
    "import pandas as pd\n",
    "import zipfile\n",
    "import json\n",
    "#from tqdm._tqdm_notebook import tqdm_notebook\n",
    "from tqdm.auto import tqdm\n",
    "import os\n",
    "import sys\n",
    "util_dir = os.path.abspath('../utils')\n",
    "sys.path.append(util_dir)\n",
    "from utils import *\n",
    "\n",
    "directories = ['jsonzip', 'output']\n",
    "make_dirs(directories)\n",
    "\n",
    "projects = input('Project(s): ').lower()\n",
    "p = format_project_list(projects)\n",
    "\n",
    "p = oracc_download(p)"
   ]
  },
  {
   "cell_type": "code",
   "execution_count": 3,
   "metadata": {
    "scrolled": false
   },
   "outputs": [
    {
     "data": {
      "application/vnd.jupyter.widget-view+json": {
       "model_id": "2bc9aa0540c049208e5de2490b0cba26",
       "version_major": 2,
       "version_minor": 0
      },
      "text/plain": [
       "HBox(children=(IntProgress(value=0, description='rinap/rinap1', max=92, style=ProgressStyle(description_width=…"
      ]
     },
     "metadata": {},
     "output_type": "display_data"
    },
    {
     "name": "stdout",
     "output_type": "stream",
     "text": [
      "\n"
     ]
    },
    {
     "data": {
      "application/vnd.jupyter.widget-view+json": {
       "model_id": "df6fae7c605148368646af11d3aa0b10",
       "version_major": 2,
       "version_minor": 0
      },
      "text/plain": [
       "HBox(children=(IntProgress(value=0, description='ario', max=175, style=ProgressStyle(description_width='initia…"
      ]
     },
     "metadata": {},
     "output_type": "display_data"
    },
    {
     "name": "stdout",
     "output_type": "stream",
     "text": [
      "Q007189 is not available or not complete\n",
      "\n"
     ]
    },
    {
     "data": {
      "application/vnd.jupyter.widget-view+json": {
       "model_id": "d66480a91e744d2f892d867ac75e5d78",
       "version_major": 2,
       "version_minor": 0
      },
      "text/plain": [
       "HBox(children=(IntProgress(value=0, description='cams/gkab', max=585, style=ProgressStyle(description_width='i…"
      ]
     },
     "metadata": {},
     "output_type": "display_data"
    },
    {
     "name": "stdout",
     "output_type": "stream",
     "text": [
      "P363695 is not available or not complete\n",
      "\n"
     ]
    },
    {
     "data": {
      "application/vnd.jupyter.widget-view+json": {
       "model_id": "cc4e47676b9a496f91bc249fbe848baa",
       "version_major": 2,
       "version_minor": 0
      },
      "text/plain": [
       "HBox(children=(IntProgress(value=0, description='ribo/babylon10', max=1, style=ProgressStyle(description_width…"
      ]
     },
     "metadata": {},
     "output_type": "display_data"
    },
    {
     "name": "stdout",
     "output_type": "stream",
     "text": [
      "\n"
     ]
    },
    {
     "data": {
      "application/vnd.jupyter.widget-view+json": {
       "model_id": "6f996d84857149b39d76c0c800cb6277",
       "version_major": 2,
       "version_minor": 0
      },
      "text/plain": [
       "HBox(children=(IntProgress(value=0, description='saao/saa03', max=52, style=ProgressStyle(description_width='i…"
      ]
     },
     "metadata": {},
     "output_type": "display_data"
    },
    {
     "name": "stdout",
     "output_type": "stream",
     "text": [
      "\n"
     ]
    },
    {
     "data": {
      "application/vnd.jupyter.widget-view+json": {
       "model_id": "1a523aa5cc6e440a90725c8048e66493",
       "version_major": 2,
       "version_minor": 0
      },
      "text/plain": [
       "HBox(children=(IntProgress(value=0, description='rimanum', max=378, style=ProgressStyle(description_width='ini…"
      ]
     },
     "metadata": {},
     "output_type": "display_data"
    },
    {
     "name": "stdout",
     "output_type": "stream",
     "text": [
      "\n"
     ]
    },
    {
     "data": {
      "application/vnd.jupyter.widget-view+json": {
       "model_id": "51ae340e87fa41d58e07c54c8dc88807",
       "version_major": 2,
       "version_minor": 0
      },
      "text/plain": [
       "HBox(children=(IntProgress(value=0, description='suhu', max=33, style=ProgressStyle(description_width='initial…"
      ]
     },
     "metadata": {},
     "output_type": "display_data"
    },
    {
     "name": "stdout",
     "output_type": "stream",
     "text": [
      "\n"
     ]
    },
    {
     "data": {
      "application/vnd.jupyter.widget-view+json": {
       "model_id": "2e618251ad854aba81a1ca61ccbd43a3",
       "version_major": 2,
       "version_minor": 0
      },
      "text/plain": [
       "HBox(children=(IntProgress(value=0, description='rinap/rinap3', max=261, style=ProgressStyle(description_width…"
      ]
     },
     "metadata": {},
     "output_type": "display_data"
    },
    {
     "name": "stdout",
     "output_type": "stream",
     "text": [
      "\n"
     ]
    },
    {
     "data": {
      "application/vnd.jupyter.widget-view+json": {
       "model_id": "11e3678703624052a202a782ee45c270",
       "version_major": 2,
       "version_minor": 0
      },
      "text/plain": [
       "HBox(children=(IntProgress(value=0, description='saao/saa06', max=350, style=ProgressStyle(description_width='…"
      ]
     },
     "metadata": {},
     "output_type": "display_data"
    },
    {
     "name": "stdout",
     "output_type": "stream",
     "text": [
      "P335204 is not available or not complete\n",
      "P335372 is not available or not complete\n",
      "P335226 is not available or not complete\n",
      "P335202 is not available or not complete\n",
      "P335322 is not available or not complete\n",
      "P335176 is not available or not complete\n",
      "\n"
     ]
    },
    {
     "data": {
      "application/vnd.jupyter.widget-view+json": {
       "model_id": "74e3c5f5db7c4684905ad3b46e8c6aac",
       "version_major": 2,
       "version_minor": 0
      },
      "text/plain": [
       "HBox(children=(IntProgress(value=0, description='saao/saa13', max=210, style=ProgressStyle(description_width='…"
      ]
     },
     "metadata": {},
     "output_type": "display_data"
    },
    {
     "name": "stdout",
     "output_type": "stream",
     "text": [
      "\n"
     ]
    },
    {
     "data": {
      "application/vnd.jupyter.widget-view+json": {
       "model_id": "b7e1916675f84f6e9813d86f22c8a969",
       "version_major": 2,
       "version_minor": 0
      },
      "text/plain": [
       "HBox(children=(IntProgress(value=0, description='saao/saa17', max=207, style=ProgressStyle(description_width='…"
      ]
     },
     "metadata": {},
     "output_type": "display_data"
    },
    {
     "name": "stdout",
     "output_type": "stream",
     "text": [
      "\n"
     ]
    },
    {
     "data": {
      "application/vnd.jupyter.widget-view+json": {
       "model_id": "ac23fe181ed048c79b50cbcf3002204b",
       "version_major": 2,
       "version_minor": 0
      },
      "text/plain": [
       "HBox(children=(IntProgress(value=0, description='cmawro/cmawr2', max=82, style=ProgressStyle(description_width…"
      ]
     },
     "metadata": {},
     "output_type": "display_data"
    },
    {
     "name": "stdout",
     "output_type": "stream",
     "text": [
      "\n"
     ]
    },
    {
     "data": {
      "application/vnd.jupyter.widget-view+json": {
       "model_id": "31b859144a8444db80caa1cf60c2daea",
       "version_major": 2,
       "version_minor": 0
      },
      "text/plain": [
       "HBox(children=(IntProgress(value=0, description='riao', max=890, style=ProgressStyle(description_width='initia…"
      ]
     },
     "metadata": {},
     "output_type": "display_data"
    },
    {
     "name": "stdout",
     "output_type": "stream",
     "text": [
      "Q005621 is not available or not complete\n",
      "\n"
     ]
    },
    {
     "data": {
      "application/vnd.jupyter.widget-view+json": {
       "model_id": "7febccd148e143cf9cc2dc63878e2b34",
       "version_major": 2,
       "version_minor": 0
      },
      "text/plain": [
       "HBox(children=(IntProgress(value=0, description='rinap/rinap4', max=183, style=ProgressStyle(description_width…"
      ]
     },
     "metadata": {},
     "output_type": "display_data"
    },
    {
     "name": "stdout",
     "output_type": "stream",
     "text": [
      "Q003327 is not available or not complete\n",
      "\n"
     ]
    },
    {
     "data": {
      "application/vnd.jupyter.widget-view+json": {
       "model_id": "3b3d0b939e904b4384aa081cca6e1963",
       "version_major": 2,
       "version_minor": 0
      },
      "text/plain": [
       "HBox(children=(IntProgress(value=0, description='saao/saa12', max=98, style=ProgressStyle(description_width='i…"
      ]
     },
     "metadata": {},
     "output_type": "display_data"
    },
    {
     "name": "stdout",
     "output_type": "stream",
     "text": [
      "\n"
     ]
    },
    {
     "data": {
      "application/vnd.jupyter.widget-view+json": {
       "model_id": "1f37222c44414049a0c981bd57f3fbd4",
       "version_major": 2,
       "version_minor": 0
      },
      "text/plain": [
       "HBox(children=(IntProgress(value=0, description='saao/saa19', max=229, style=ProgressStyle(description_width='…"
      ]
     },
     "metadata": {},
     "output_type": "display_data"
    },
    {
     "name": "stdout",
     "output_type": "stream",
     "text": [
      "\n"
     ]
    },
    {
     "data": {
      "application/vnd.jupyter.widget-view+json": {
       "model_id": "4626ab04ab524610b8bd57ea99d5e23e",
       "version_major": 2,
       "version_minor": 0
      },
      "text/plain": [
       "HBox(children=(IntProgress(value=0, description='adsd/adart1', max=89, style=ProgressStyle(description_width='…"
      ]
     },
     "metadata": {},
     "output_type": "display_data"
    },
    {
     "name": "stdout",
     "output_type": "stream",
     "text": [
      "\n"
     ]
    },
    {
     "data": {
      "application/vnd.jupyter.widget-view+json": {
       "model_id": "72cc08269f444ec6a555d67ce8a6820c",
       "version_major": 2,
       "version_minor": 0
      },
      "text/plain": [
       "HBox(children=(IntProgress(value=0, description='saao/saa18', max=205, style=ProgressStyle(description_width='…"
      ]
     },
     "metadata": {},
     "output_type": "display_data"
    },
    {
     "name": "stdout",
     "output_type": "stream",
     "text": [
      "\n"
     ]
    },
    {
     "data": {
      "application/vnd.jupyter.widget-view+json": {
       "model_id": "695653cb425c47699c612ccc32f4a0a5",
       "version_major": 2,
       "version_minor": 0
      },
      "text/plain": [
       "HBox(children=(IntProgress(value=0, description='saao/saa04', max=353, style=ProgressStyle(description_width='…"
      ]
     },
     "metadata": {},
     "output_type": "display_data"
    },
    {
     "name": "stdout",
     "output_type": "stream",
     "text": [
      "P238974 is not available or not complete\n",
      "\n"
     ]
    },
    {
     "data": {
      "application/vnd.jupyter.widget-view+json": {
       "model_id": "730ef573f8324c12bf373707e3f84dac",
       "version_major": 2,
       "version_minor": 0
      },
      "text/plain": [
       "HBox(children=(IntProgress(value=0, description='ribo/babylon5', max=1, style=ProgressStyle(description_width=…"
      ]
     },
     "metadata": {},
     "output_type": "display_data"
    },
    {
     "name": "stdout",
     "output_type": "stream",
     "text": [
      "\n"
     ]
    },
    {
     "data": {
      "application/vnd.jupyter.widget-view+json": {
       "model_id": "eb41ab806d9a4bbea5480b9cd01950c1",
       "version_major": 2,
       "version_minor": 0
      },
      "text/plain": [
       "HBox(children=(IntProgress(value=0, description='glass', max=20, style=ProgressStyle(description_width='initia…"
      ]
     },
     "metadata": {},
     "output_type": "display_data"
    },
    {
     "name": "stdout",
     "output_type": "stream",
     "text": [
      "\n"
     ]
    },
    {
     "data": {
      "application/vnd.jupyter.widget-view+json": {
       "model_id": "eaf8fe3fc4794557aaf76671afd1ab46",
       "version_major": 2,
       "version_minor": 0
      },
      "text/plain": [
       "HBox(children=(IntProgress(value=0, description='adsd/adart2', max=163, style=ProgressStyle(description_width=…"
      ]
     },
     "metadata": {},
     "output_type": "display_data"
    },
    {
     "name": "stdout",
     "output_type": "stream",
     "text": [
      "X201680 is not available or not complete\n",
      "\n"
     ]
    },
    {
     "data": {
      "application/vnd.jupyter.widget-view+json": {
       "model_id": "521c1f48c5f04487a5b40f6bd35ce5fc",
       "version_major": 2,
       "version_minor": 0
      },
      "text/plain": [
       "HBox(children=(IntProgress(value=0, description='obmc', max=170, style=ProgressStyle(description_width='initia…"
      ]
     },
     "metadata": {},
     "output_type": "display_data"
    },
    {
     "name": "stdout",
     "output_type": "stream",
     "text": [
      "\n"
     ]
    },
    {
     "data": {
      "application/vnd.jupyter.widget-view+json": {
       "model_id": "e3b8b798f3ba4dcc9999df188d938a79",
       "version_major": 2,
       "version_minor": 0
      },
      "text/plain": [
       "HBox(children=(IntProgress(value=0, description='cams/anzu', max=3, style=ProgressStyle(description_width='ini…"
      ]
     },
     "metadata": {},
     "output_type": "display_data"
    },
    {
     "name": "stdout",
     "output_type": "stream",
     "text": [
      "\n"
     ]
    },
    {
     "data": {
      "application/vnd.jupyter.widget-view+json": {
       "model_id": "ef290a17a91e475083f21d8e0ef236b5",
       "version_major": 2,
       "version_minor": 0
      },
      "text/plain": [
       "HBox(children=(IntProgress(value=0, description='cmawro/cmawr1', max=49, style=ProgressStyle(description_width…"
      ]
     },
     "metadata": {},
     "output_type": "display_data"
    },
    {
     "name": "stdout",
     "output_type": "stream",
     "text": [
      "\n"
     ]
    },
    {
     "data": {
      "application/vnd.jupyter.widget-view+json": {
       "model_id": "b11fad69e87e46ba8e27563b35469cfa",
       "version_major": 2,
       "version_minor": 0
      },
      "text/plain": [
       "HBox(children=(IntProgress(value=0, description='saao/saa08', max=568, style=ProgressStyle(description_width='…"
      ]
     },
     "metadata": {},
     "output_type": "display_data"
    },
    {
     "name": "stdout",
     "output_type": "stream",
     "text": [
      "\n"
     ]
    },
    {
     "data": {
      "application/vnd.jupyter.widget-view+json": {
       "model_id": "4ce60d444be8467bad6b00007373bcc5",
       "version_major": 2,
       "version_minor": 0
      },
      "text/plain": [
       "HBox(children=(IntProgress(value=0, description='saao/saa02', max=15, style=ProgressStyle(description_width='i…"
      ]
     },
     "metadata": {},
     "output_type": "display_data"
    },
    {
     "name": "stdout",
     "output_type": "stream",
     "text": [
      "\n"
     ]
    },
    {
     "data": {
      "application/vnd.jupyter.widget-view+json": {
       "model_id": "d2b72638df364fe8bde4f147492c299a",
       "version_major": 2,
       "version_minor": 0
      },
      "text/plain": [
       "HBox(children=(IntProgress(value=0, description='saao/saa15', max=390, style=ProgressStyle(description_width='…"
      ]
     },
     "metadata": {},
     "output_type": "display_data"
    },
    {
     "name": "stdout",
     "output_type": "stream",
     "text": [
      "\n"
     ]
    },
    {
     "data": {
      "application/vnd.jupyter.widget-view+json": {
       "model_id": "ad8edcecf49341c083acb6f757af25ee",
       "version_major": 2,
       "version_minor": 0
      },
      "text/plain": [
       "HBox(children=(IntProgress(value=0, description='akklove', max=32, style=ProgressStyle(description_width='init…"
      ]
     },
     "metadata": {},
     "output_type": "display_data"
    },
    {
     "name": "stdout",
     "output_type": "stream",
     "text": [
      "\n"
     ]
    },
    {
     "data": {
      "application/vnd.jupyter.widget-view+json": {
       "model_id": "dd7ca74d945d4dfaab4a5ef2b113e133",
       "version_major": 2,
       "version_minor": 0
      },
      "text/plain": [
       "HBox(children=(IntProgress(value=0, description='cmawro/cmawr3', max=124, style=ProgressStyle(description_widt…"
      ]
     },
     "metadata": {},
     "output_type": "display_data"
    },
    {
     "name": "stdout",
     "output_type": "stream",
     "text": [
      "\n"
     ]
    },
    {
     "data": {
      "application/vnd.jupyter.widget-view+json": {
       "model_id": "63ac8ff682f34f109da06e4ea75192ba",
       "version_major": 2,
       "version_minor": 0
      },
      "text/plain": [
       "HBox(children=(IntProgress(value=0, description='saao/saa01', max=265, style=ProgressStyle(description_width='…"
      ]
     },
     "metadata": {},
     "output_type": "display_data"
    },
    {
     "name": "stdout",
     "output_type": "stream",
     "text": [
      "\n"
     ]
    },
    {
     "data": {
      "application/vnd.jupyter.widget-view+json": {
       "model_id": "9cdca0bb5c1d4b95b52068929139c436",
       "version_major": 2,
       "version_minor": 0
      },
      "text/plain": [
       "HBox(children=(IntProgress(value=0, description='saao/saa10', max=389, style=ProgressStyle(description_width='…"
      ]
     },
     "metadata": {},
     "output_type": "display_data"
    },
    {
     "name": "stdout",
     "output_type": "stream",
     "text": [
      "P334428 is not available or not complete\n",
      "P334597 is not available or not complete\n",
      "P334751 is not available or not complete\n",
      "P334031 is not available or not complete\n",
      "P334913 is not available or not complete\n",
      "P334448 is not available or not complete\n",
      "P334277 is not available or not complete\n",
      "P334276 is not available or not complete\n",
      "P334714 is not available or not complete\n",
      "P334029 is not available or not complete\n",
      "\n"
     ]
    },
    {
     "data": {
      "application/vnd.jupyter.widget-view+json": {
       "model_id": "400efce69a6c445f9d5f4cb70772ce29",
       "version_major": 2,
       "version_minor": 0
      },
      "text/plain": [
       "HBox(children=(IntProgress(value=0, description='saao/saa14', max=479, style=ProgressStyle(description_width='…"
      ]
     },
     "metadata": {},
     "output_type": "display_data"
    },
    {
     "name": "stdout",
     "output_type": "stream",
     "text": [
      "P335107 is not available or not complete\n",
      "P335080 is not available or not complete\n",
      "P224949 is not available or not complete\n",
      "P335180 is not available or not complete\n",
      "P335257 is not available or not complete\n",
      "P335154 is not available or not complete\n",
      "P334991 is not available or not complete\n",
      "P335415 is not available or not complete\n",
      "P335196 is not available or not complete\n",
      "P336196 is not available or not complete\n",
      "P335459 is not available or not complete\n",
      "P335574 is not available or not complete\n",
      "P335305 is not available or not complete\n",
      "X140172 is not available or not complete\n",
      "P335587 is not available or not complete\n",
      "P335197 is not available or not complete\n",
      "P336194 is not available or not complete\n",
      "P336029 is not available or not complete\n",
      "P335530 is not available or not complete\n",
      "P335489 is not available or not complete\n",
      "P335263 is not available or not complete\n",
      "P335081 is not available or not complete\n",
      "\n"
     ]
    },
    {
     "data": {
      "application/vnd.jupyter.widget-view+json": {
       "model_id": "29454d89f7984e0ba553aa511b726d84",
       "version_major": 2,
       "version_minor": 0
      },
      "text/plain": [
       "HBox(children=(IntProgress(value=0, description='saao/saa09', max=11, style=ProgressStyle(description_width='i…"
      ]
     },
     "metadata": {},
     "output_type": "display_data"
    },
    {
     "name": "stdout",
     "output_type": "stream",
     "text": [
      "\n"
     ]
    },
    {
     "data": {
      "application/vnd.jupyter.widget-view+json": {
       "model_id": "2d713a8a437c43d1aa4809a6b6301e13",
       "version_major": 2,
       "version_minor": 0
      },
      "text/plain": [
       "HBox(children=(IntProgress(value=0, description='hbtin', max=485, style=ProgressStyle(description_width='initi…"
      ]
     },
     "metadata": {},
     "output_type": "display_data"
    },
    {
     "name": "stdout",
     "output_type": "stream",
     "text": [
      "\n"
     ]
    },
    {
     "data": {
      "application/vnd.jupyter.widget-view+json": {
       "model_id": "7c43fdaf745c46e4a3bd1aaf4a6dfaec",
       "version_major": 2,
       "version_minor": 0
      },
      "text/plain": [
       "HBox(children=(IntProgress(value=0, description='saao/saa20', max=55, style=ProgressStyle(description_width='i…"
      ]
     },
     "metadata": {},
     "output_type": "display_data"
    },
    {
     "name": "stdout",
     "output_type": "stream",
     "text": [
      "\n"
     ]
    },
    {
     "data": {
      "application/vnd.jupyter.widget-view+json": {
       "model_id": "161023c8a3004e05acb3efcc2f5379a1",
       "version_major": 2,
       "version_minor": 0
      },
      "text/plain": [
       "HBox(children=(IntProgress(value=0, description='ribo/babylon3', max=4, style=ProgressStyle(description_width=…"
      ]
     },
     "metadata": {},
     "output_type": "display_data"
    },
    {
     "name": "stdout",
     "output_type": "stream",
     "text": [
      "\n"
     ]
    },
    {
     "data": {
      "application/vnd.jupyter.widget-view+json": {
       "model_id": "65d619c1672144b5bfafa8f20993ff3c",
       "version_major": 2,
       "version_minor": 0
      },
      "text/plain": [
       "HBox(children=(IntProgress(value=0, description='saao/saa16', max=246, style=ProgressStyle(description_width='…"
      ]
     },
     "metadata": {},
     "output_type": "display_data"
    },
    {
     "name": "stdout",
     "output_type": "stream",
     "text": [
      "\n"
     ]
    },
    {
     "data": {
      "application/vnd.jupyter.widget-view+json": {
       "model_id": "56708e0deee541eca1fbcb03f02bfbc0",
       "version_major": 2,
       "version_minor": 0
      },
      "text/plain": [
       "HBox(children=(IntProgress(value=0, description='ribo/babylon6', max=126, style=ProgressStyle(description_widt…"
      ]
     },
     "metadata": {},
     "output_type": "display_data"
    },
    {
     "name": "stdout",
     "output_type": "stream",
     "text": [
      "\n"
     ]
    },
    {
     "data": {
      "application/vnd.jupyter.widget-view+json": {
       "model_id": "5f5513698e7f47fd80bb7206f8bfeda9",
       "version_major": 2,
       "version_minor": 0
      },
      "text/plain": [
       "HBox(children=(IntProgress(value=0, description='saao/saa07', max=219, style=ProgressStyle(description_width='…"
      ]
     },
     "metadata": {},
     "output_type": "display_data"
    },
    {
     "name": "stdout",
     "output_type": "stream",
     "text": [
      "P335792 is not available or not complete\n",
      "\n"
     ]
    },
    {
     "data": {
      "application/vnd.jupyter.widget-view+json": {
       "model_id": "ad282a0f732f4b15af0e1f5d9e2f8b1d",
       "version_major": 2,
       "version_minor": 0
      },
      "text/plain": [
       "HBox(children=(IntProgress(value=0, description='ribo/babylon2', max=38, style=ProgressStyle(description_width…"
      ]
     },
     "metadata": {},
     "output_type": "display_data"
    },
    {
     "name": "stdout",
     "output_type": "stream",
     "text": [
      "\n"
     ]
    },
    {
     "data": {
      "application/vnd.jupyter.widget-view+json": {
       "model_id": "d614e35e7d7e41748925c86f06a9d762",
       "version_major": 2,
       "version_minor": 0
      },
      "text/plain": [
       "HBox(children=(IntProgress(value=0, description='adsd/adart3', max=156, style=ProgressStyle(description_width=…"
      ]
     },
     "metadata": {},
     "output_type": "display_data"
    },
    {
     "name": "stdout",
     "output_type": "stream",
     "text": [
      "\n"
     ]
    },
    {
     "data": {
      "application/vnd.jupyter.widget-view+json": {
       "model_id": "1099ff5bca9b4836ac74983b669b74a6",
       "version_major": 2,
       "version_minor": 0
      },
      "text/plain": [
       "HBox(children=(IntProgress(value=0, description='ribo/babylon8', max=3, style=ProgressStyle(description_width=…"
      ]
     },
     "metadata": {},
     "output_type": "display_data"
    },
    {
     "name": "stdout",
     "output_type": "stream",
     "text": [
      "\n"
     ]
    },
    {
     "data": {
      "application/vnd.jupyter.widget-view+json": {
       "model_id": "10c7b07d93bd46d58a204fe2434d8c47",
       "version_major": 2,
       "version_minor": 0
      },
      "text/plain": [
       "HBox(children=(IntProgress(value=0, description='ribo/babylon4', max=6, style=ProgressStyle(description_width=…"
      ]
     },
     "metadata": {},
     "output_type": "display_data"
    },
    {
     "name": "stdout",
     "output_type": "stream",
     "text": [
      "\n"
     ]
    },
    {
     "data": {
      "application/vnd.jupyter.widget-view+json": {
       "model_id": "5820d970a93946e7a38eef376600f6f6",
       "version_major": 2,
       "version_minor": 0
      },
      "text/plain": [
       "HBox(children=(IntProgress(value=0, description='ribo/babylon7', max=141, style=ProgressStyle(description_widt…"
      ]
     },
     "metadata": {},
     "output_type": "display_data"
    },
    {
     "name": "stdout",
     "output_type": "stream",
     "text": [
      "Q005495 is not available or not complete\n",
      "\n"
     ]
    },
    {
     "data": {
      "application/vnd.jupyter.widget-view+json": {
       "model_id": "e89cedee1c894d67b9fe42c65abd9750",
       "version_major": 2,
       "version_minor": 0
      },
      "text/plain": [
       "HBox(children=(IntProgress(value=0, description='rinap/rinap5', max=140, style=ProgressStyle(description_width…"
      ]
     },
     "metadata": {},
     "output_type": "display_data"
    },
    {
     "name": "stdout",
     "output_type": "stream",
     "text": [
      "\n"
     ]
    },
    {
     "data": {
      "application/vnd.jupyter.widget-view+json": {
       "model_id": "d6a3153c557a47e58ce9bc378e7c96ce",
       "version_major": 2,
       "version_minor": 0
      },
      "text/plain": [
       "HBox(children=(IntProgress(value=0, description='aemw/alalakh/idrimi', max=1, style=ProgressStyle(description_…"
      ]
     },
     "metadata": {},
     "output_type": "display_data"
    },
    {
     "name": "stdout",
     "output_type": "stream",
     "text": [
      "\n"
     ]
    },
    {
     "data": {
      "application/vnd.jupyter.widget-view+json": {
       "model_id": "bfb840bde792478eb3558cd610692537",
       "version_major": 2,
       "version_minor": 0
      },
      "text/plain": [
       "HBox(children=(IntProgress(value=0, description='cmawro/maqlu', max=9, style=ProgressStyle(description_width='…"
      ]
     },
     "metadata": {},
     "output_type": "display_data"
    },
    {
     "name": "stdout",
     "output_type": "stream",
     "text": [
      "\n"
     ]
    },
    {
     "data": {
      "application/vnd.jupyter.widget-view+json": {
       "model_id": "fbdb2a57808b4e48a309d8d1090db694",
       "version_major": 2,
       "version_minor": 0
      },
      "text/plain": [
       "HBox(children=(IntProgress(value=0, description='saao/saa21', max=161, style=ProgressStyle(description_width='…"
      ]
     },
     "metadata": {},
     "output_type": "display_data"
    },
    {
     "name": "stdout",
     "output_type": "stream",
     "text": [
      "\n"
     ]
    },
    {
     "data": {
      "application/vnd.jupyter.widget-view+json": {
       "model_id": "c6012d3fb4304bdf82414f9351571d28",
       "version_major": 2,
       "version_minor": 0
      },
      "text/plain": [
       "HBox(children=(IntProgress(value=0, description='saao/saa11', max=234, style=ProgressStyle(description_width='…"
      ]
     },
     "metadata": {},
     "output_type": "display_data"
    },
    {
     "name": "stdout",
     "output_type": "stream",
     "text": [
      "\n"
     ]
    },
    {
     "data": {
      "application/vnd.jupyter.widget-view+json": {
       "model_id": "9da483206063439ca309a0b1b6dc59de",
       "version_major": 2,
       "version_minor": 0
      },
      "text/plain": [
       "HBox(children=(IntProgress(value=0, description='saao/saa05', max=300, style=ProgressStyle(description_width='…"
      ]
     },
     "metadata": {},
     "output_type": "display_data"
    },
    {
     "name": "stdout",
     "output_type": "stream",
     "text": [
      "\n"
     ]
    },
    {
     "data": {
      "application/vnd.jupyter.widget-view+json": {
       "model_id": "fea2d39d56144e12aced068ad5981111",
       "version_major": 2,
       "version_minor": 0
      },
      "text/plain": [
       "HBox(children=(IntProgress(value=0, description='blms', max=395, style=ProgressStyle(description_width='initia…"
      ]
     },
     "metadata": {},
     "output_type": "display_data"
    },
    {
     "name": "stdout",
     "output_type": "stream",
     "text": [
      "\n"
     ]
    },
    {
     "data": {
      "application/vnd.jupyter.widget-view+json": {
       "model_id": "1899ee2a8fd445eca6b3b0107e16bd4c",
       "version_major": 2,
       "version_minor": 0
      },
      "text/plain": [
       "HBox(children=(IntProgress(value=0, description='cams/selbi', max=3, style=ProgressStyle(description_width='in…"
      ]
     },
     "metadata": {},
     "output_type": "display_data"
    },
    {
     "name": "stdout",
     "output_type": "stream",
     "text": [
      "\n"
     ]
    },
    {
     "data": {
      "text/html": [
       "<div>\n",
       "<style scoped>\n",
       "    .dataframe tbody tr th:only-of-type {\n",
       "        vertical-align: middle;\n",
       "    }\n",
       "\n",
       "    .dataframe tbody tr th {\n",
       "        vertical-align: top;\n",
       "    }\n",
       "\n",
       "    .dataframe thead th {\n",
       "        text-align: right;\n",
       "    }\n",
       "</style>\n",
       "<table border=\"1\" class=\"dataframe\">\n",
       "  <thead>\n",
       "    <tr style=\"text-align: right;\">\n",
       "      <th></th>\n",
       "      <th>id_text</th>\n",
       "      <th>date</th>\n",
       "      <th>date_of_origin</th>\n",
       "      <th>period</th>\n",
       "      <th>ruler</th>\n",
       "      <th>language</th>\n",
       "      <th>lemma</th>\n",
       "    </tr>\n",
       "  </thead>\n",
       "  <tbody>\n",
       "    <tr>\n",
       "      <th>P200932</th>\n",
       "      <td>P200932</td>\n",
       "      <td></td>\n",
       "      <td></td>\n",
       "      <td>Old Babylonian</td>\n",
       "      <td></td>\n",
       "      <td>Sumerian</td>\n",
       "      <td>_ saŋnita[man]N Antalu[1]PN mu[name]N arad[sla...</td>\n",
       "    </tr>\n",
       "    <tr>\n",
       "      <th>P200933</th>\n",
       "      <td>P200933</td>\n",
       "      <td></td>\n",
       "      <td></td>\n",
       "      <td>Old Babylonian</td>\n",
       "      <td></td>\n",
       "      <td>Sumerian</td>\n",
       "      <td>Aham-arši[1]PN _ saŋnita[man]N Antalu[1]PN mu[...</td>\n",
       "    </tr>\n",
       "    <tr>\n",
       "      <th>P223388</th>\n",
       "      <td>P223388</td>\n",
       "      <td>7th century</td>\n",
       "      <td></td>\n",
       "      <td>Neo-Assyrian</td>\n",
       "      <td>uncertain</td>\n",
       "      <td>Akkadian</td>\n",
       "      <td>mannu[who?]QP ana[to]PRP ša[that]REL taklu[rel...</td>\n",
       "    </tr>\n",
       "    <tr>\n",
       "      <th>P223392</th>\n",
       "      <td>P223392</td>\n",
       "      <td></td>\n",
       "      <td></td>\n",
       "      <td>Neo-Babylonian</td>\n",
       "      <td></td>\n",
       "      <td>Sumerian, Akkadian</td>\n",
       "      <td>_ ša[of]DET _ _ _ _ _ ul[not]MOD _ _ patnu[tou...</td>\n",
       "    </tr>\n",
       "    <tr>\n",
       "      <th>P223478</th>\n",
       "      <td>P223478</td>\n",
       "      <td></td>\n",
       "      <td></td>\n",
       "      <td>Hellenistic</td>\n",
       "      <td></td>\n",
       "      <td>Sumerian, Akkadian</td>\n",
       "      <td>_ _ _ _ _ _ _ _ _ _ _ _ _ _ _ _ _ _ _ _ _ _ _ ...</td>\n",
       "    </tr>\n",
       "    <tr>\n",
       "      <th>...</th>\n",
       "      <td>...</td>\n",
       "      <td>...</td>\n",
       "      <td>...</td>\n",
       "      <td>...</td>\n",
       "      <td>...</td>\n",
       "      <td>...</td>\n",
       "      <td>...</td>\n",
       "    </tr>\n",
       "    <tr>\n",
       "      <th>X468674</th>\n",
       "      <td>X468674</td>\n",
       "      <td></td>\n",
       "      <td></td>\n",
       "      <td>Middle Babylonian</td>\n",
       "      <td></td>\n",
       "      <td></td>\n",
       "      <td>Nebuchadnezzar[1]RN nun[prince]N nituku[pious]...</td>\n",
       "    </tr>\n",
       "    <tr>\n",
       "      <th>X900000</th>\n",
       "      <td>X900000</td>\n",
       "      <td></td>\n",
       "      <td></td>\n",
       "      <td>Neo-Assyrian</td>\n",
       "      <td></td>\n",
       "      <td>Akkadian</td>\n",
       "      <td>_ _ muṣlālu[siesta(-time)]N _ u[and]CNJ šattu[...</td>\n",
       "    </tr>\n",
       "    <tr>\n",
       "      <th>X900001</th>\n",
       "      <td>X900001</td>\n",
       "      <td></td>\n",
       "      <td>SE 015 ? if join with BagM Beih. 02, 119</td>\n",
       "      <td>Seleucid</td>\n",
       "      <td></td>\n",
       "      <td>Akkadian</td>\n",
       "      <td>_ awīlūtu[humanity]N šunūti[them]IP adi[until]...</td>\n",
       "    </tr>\n",
       "    <tr>\n",
       "      <th>X900002</th>\n",
       "      <td>X900002</td>\n",
       "      <td></td>\n",
       "      <td></td>\n",
       "      <td>Seleucid</td>\n",
       "      <td></td>\n",
       "      <td>Akkadian</td>\n",
       "      <td>_ ṭupšarru[scribe]N māru[son]N ša[of]DET Itti-...</td>\n",
       "    </tr>\n",
       "    <tr>\n",
       "      <th>X900003</th>\n",
       "      <td>X900003</td>\n",
       "      <td></td>\n",
       "      <td></td>\n",
       "      <td>Seleucid</td>\n",
       "      <td></td>\n",
       "      <td>Akkadian</td>\n",
       "      <td>_ _ _ _ _ _ _ _ _ šunūti[them]IP _ kunukku[sea...</td>\n",
       "    </tr>\n",
       "  </tbody>\n",
       "</table>\n",
       "<p>11164 rows × 7 columns</p>\n",
       "</div>"
      ],
      "text/plain": [
       "         id_text         date                            date_of_origin  \\\n",
       "P200932  P200932                                                          \n",
       "P200933  P200933                                                          \n",
       "P223388  P223388  7th century                                             \n",
       "P223392  P223392                                                          \n",
       "P223478  P223478                                                          \n",
       "...          ...          ...                                       ...   \n",
       "X468674  X468674                                                          \n",
       "X900000  X900000                                                          \n",
       "X900001  X900001               SE 015 ? if join with BagM Beih. 02, 119   \n",
       "X900002  X900002                                                          \n",
       "X900003  X900003                                                          \n",
       "\n",
       "                    period      ruler            language  \\\n",
       "P200932     Old Babylonian                       Sumerian   \n",
       "P200933     Old Babylonian                       Sumerian   \n",
       "P223388       Neo-Assyrian  uncertain            Akkadian   \n",
       "P223392     Neo-Babylonian             Sumerian, Akkadian   \n",
       "P223478        Hellenistic             Sumerian, Akkadian   \n",
       "...                    ...        ...                 ...   \n",
       "X468674  Middle Babylonian                                  \n",
       "X900000       Neo-Assyrian                       Akkadian   \n",
       "X900001           Seleucid                       Akkadian   \n",
       "X900002           Seleucid                       Akkadian   \n",
       "X900003           Seleucid                       Akkadian   \n",
       "\n",
       "                                                     lemma  \n",
       "P200932  _ saŋnita[man]N Antalu[1]PN mu[name]N arad[sla...  \n",
       "P200933  Aham-arši[1]PN _ saŋnita[man]N Antalu[1]PN mu[...  \n",
       "P223388  mannu[who?]QP ana[to]PRP ša[that]REL taklu[rel...  \n",
       "P223392  _ ša[of]DET _ _ _ _ _ ul[not]MOD _ _ patnu[tou...  \n",
       "P223478  _ _ _ _ _ _ _ _ _ _ _ _ _ _ _ _ _ _ _ _ _ _ _ ...  \n",
       "...                                                    ...  \n",
       "X468674  Nebuchadnezzar[1]RN nun[prince]N nituku[pious]...  \n",
       "X900000  _ _ muṣlālu[siesta(-time)]N _ u[and]CNJ šattu[...  \n",
       "X900001  _ awīlūtu[humanity]N šunūti[them]IP adi[until]...  \n",
       "X900002  _ ṭupšarru[scribe]N māru[son]N ša[of]DET Itti-...  \n",
       "X900003  _ _ _ _ _ _ _ _ _ šunūti[them]IP _ kunukku[sea...  \n",
       "\n",
       "[11164 rows x 7 columns]"
      ]
     },
     "execution_count": 3,
     "metadata": {},
     "output_type": "execute_result"
    }
   ],
   "source": [
    "def parsejson(text):\n",
    "    for JSONobject in text[\"cdl\"]:\n",
    "        if \"cdl\" in JSONobject: \n",
    "            parsejson(JSONobject)\n",
    "        if \"f\" in JSONobject:\n",
    "            lemm = JSONobject[\"f\"]\n",
    "            lemm[\"id_text\"] = id_text\n",
    "            lemm_l.append(lemm)\n",
    "    return\n",
    "\n",
    "lemm_l = [] # initiate the list that will hold all the lemmatization data of all texts in all requested projects\n",
    "for project in p:\n",
    "    # print(\"Parsing \" + project)\n",
    "    file = \"jsonzip/\" + project.replace(\"/\", \"-\") + \".zip\"\n",
    "    try:\n",
    "        z = zipfile.ZipFile(file)       # create a Zipfile object\n",
    "    except:\n",
    "        print(file + \" does not exist or is not a proper ZIP file\")\n",
    "        continue\n",
    "    \n",
    "    files = z.namelist()     # list of all the files in the ZIP\n",
    "    files = [name for name in files if \"corpusjson\" in name and name[-5:] == '.json']                                                                                                  #that holds all the P, Q, and X numbers.\n",
    "    for filename in tqdm(files, desc=project):                            #iterate over the file names\n",
    "        #id_text = project + filename[-13:-5] commented out to make index match other df # id_text is, for instance, blms/P414332\n",
    "        id_text = filename[-12:-5]\n",
    "        try:\n",
    "            text = z.read(filename).decode('utf-8')         #read and decode the json file of one particular text\n",
    "            data_json = json.loads(text)                # make it into a json object (essentially a dictionary)\n",
    "            parsejson(data_json)               # and send to the parsejson() function\n",
    "        except:\n",
    "            tqdm.write(id_text + ' is not available or not complete')\n",
    "    z.close()\n",
    "    \n",
    "word_df = pd.DataFrame(lemm_l)\n",
    "\n",
    "word_df = word_df.fillna('')      # replace NaN (Not a Number) with empty string\n",
    "word_df\n",
    "\n",
    "findreplace = {' ' : '-', ',' : ''}\n",
    "word_df = word_df.replace({'gw' : findreplace, 'sense' : findreplace}, regex = True)\n",
    "\n",
    "word_df[\"lemma\"] = word_df[\"cf\"] + '[' + word_df[\"gw\"] + ']' + word_df[\"pos\"] #this is the bit with the extra gumpf for the lemma\n",
    "word_df.loc[word_df[\"cf\"] == \"\" , 'lemma'] = word_df['cf'] + '_' #changed this so that if there was 'x[NA]NA' in the final table it just shows an underscore\n",
    "word_df[['id_text', 'lemma']]\n",
    "\n",
    "doc_df = word_df.groupby(\"id_text\").agg({\"lemma\": ' '.join})\n",
    "doc_df #is there where I can put in a column from the catalogue parsed df?\n",
    "\n",
    "#try putting here the code for the json catalogue, and then see if you can put the df data in\n",
    "dfcat = pd.DataFrame() # create an empty dataframe\n",
    "for project in p:\n",
    "    file = \"jsonzip/\" + project.replace(\"/\", \"-\") + \".zip\"\n",
    "    try:\n",
    "        z = zipfile.ZipFile(file)       # create a Zipfile object\n",
    "    except:\n",
    "        print(file + \" does not exist or is not a proper ZIP file\")\n",
    "        continue\n",
    "    try:\n",
    "        st = z.read(project + '/catalogue.json').decode('utf-8')  #read and decode the catalogue.json file of one project\n",
    "                                                                # the result is a string object\n",
    "    except:\n",
    "        print(project + '/catalogue.json' + ' is not available or not complete')\n",
    "        continue\n",
    "    cat = json.loads(st)\n",
    "    cat = cat['members']  # select the 'members' node \n",
    "    for item in cat.values():\n",
    "        item[\"project\"] = project # add project name as separate field\n",
    "    cat_df = pd.DataFrame(cat).T\n",
    "    dfcat = pd.concat([dfcat, cat_df], sort=True)  # sort=True is necessary in case catalogs have a different set of fields\n",
    "dfcat\n",
    "\n",
    "dfcatblank = dfcat.fillna('')\n",
    "dfcatblank\n",
    "\n",
    "dfgenre = dfcatblank[['id_text', 'date', 'date_of_origin', 'period', 'ruler', 'language']] #this is where you choose the desired metadata for wider analysis\n",
    "dfgenre\n",
    "\n",
    "#doc_df is the lemma\n",
    "#dfgenre is the one with desired metadata\n",
    "#want to add genre column before lemma, have then tied to id_text\n",
    "\n",
    "dflemmaperiod = doc_df.join(dfgenre)\n",
    "dflemmaperiod\n",
    "\n",
    "dfperiodlemma = dflemmaperiod[['id_text', 'date', 'date_of_origin', 'period', 'ruler', 'language', 'lemma']]\n",
    "dfperiodlemma"
   ]
  },
  {
   "cell_type": "code",
   "execution_count": 4,
   "metadata": {},
   "outputs": [
    {
     "data": {
      "text/html": [
       "<div>\n",
       "<style scoped>\n",
       "    .dataframe tbody tr th:only-of-type {\n",
       "        vertical-align: middle;\n",
       "    }\n",
       "\n",
       "    .dataframe tbody tr th {\n",
       "        vertical-align: top;\n",
       "    }\n",
       "\n",
       "    .dataframe thead th {\n",
       "        text-align: right;\n",
       "    }\n",
       "</style>\n",
       "<table border=\"1\" class=\"dataframe\">\n",
       "  <thead>\n",
       "    <tr style=\"text-align: right;\">\n",
       "      <th></th>\n",
       "      <th>id_text</th>\n",
       "      <th>date</th>\n",
       "      <th>date_of_origin</th>\n",
       "      <th>period</th>\n",
       "      <th>ruler</th>\n",
       "      <th>language</th>\n",
       "      <th>lemma</th>\n",
       "    </tr>\n",
       "  </thead>\n",
       "  <tbody>\n",
       "    <tr>\n",
       "      <th>P223388</th>\n",
       "      <td>P223388</td>\n",
       "      <td>7th century</td>\n",
       "      <td></td>\n",
       "      <td>Neo-Assyrian</td>\n",
       "      <td>uncertain</td>\n",
       "      <td>Akkadian</td>\n",
       "      <td>mannu[who?]QP ana[to]PRP ša[that]REL taklu[rel...</td>\n",
       "    </tr>\n",
       "    <tr>\n",
       "      <th>P224378</th>\n",
       "      <td>P224378</td>\n",
       "      <td></td>\n",
       "      <td></td>\n",
       "      <td>Neo-Assyrian</td>\n",
       "      <td>Tiglath-pileser III</td>\n",
       "      <td>Akkadian</td>\n",
       "      <td>ardu[slave]N _ _ _ _ _ ana[to]PRP dinānu[subst...</td>\n",
       "    </tr>\n",
       "    <tr>\n",
       "      <th>P224379</th>\n",
       "      <td>P224379</td>\n",
       "      <td></td>\n",
       "      <td></td>\n",
       "      <td>Neo-Assyrian</td>\n",
       "      <td>Sargon II</td>\n",
       "      <td>Akkadian</td>\n",
       "      <td>ana[to]PRP šarru[king]N bēlu[lord]N ardu[slave...</td>\n",
       "    </tr>\n",
       "    <tr>\n",
       "      <th>P224380</th>\n",
       "      <td>P224380</td>\n",
       "      <td></td>\n",
       "      <td></td>\n",
       "      <td>Neo-Assyrian</td>\n",
       "      <td>Tiglath-pileser III</td>\n",
       "      <td>Akkadian</td>\n",
       "      <td>ana[to]PRP šarru[king]N bēlu[lord]N ardu[slave...</td>\n",
       "    </tr>\n",
       "    <tr>\n",
       "      <th>P224381</th>\n",
       "      <td>P224381</td>\n",
       "      <td></td>\n",
       "      <td></td>\n",
       "      <td>Neo-Assyrian</td>\n",
       "      <td>Tiglath-pileser III</td>\n",
       "      <td>Akkadian</td>\n",
       "      <td>ana[to]PRP šarru[king]N bēlu[lord]N ardu[slave...</td>\n",
       "    </tr>\n",
       "    <tr>\n",
       "      <th>...</th>\n",
       "      <td>...</td>\n",
       "      <td>...</td>\n",
       "      <td>...</td>\n",
       "      <td>...</td>\n",
       "      <td>...</td>\n",
       "      <td>...</td>\n",
       "      <td>...</td>\n",
       "    </tr>\n",
       "    <tr>\n",
       "      <th>X190191</th>\n",
       "      <td>X190191</td>\n",
       "      <td></td>\n",
       "      <td></td>\n",
       "      <td>Neo-Assyrian</td>\n",
       "      <td>Sargon II</td>\n",
       "      <td>Akkadian</td>\n",
       "      <td>_ _ _ _ _ _ _ _ _ _ _ _ _ sisû[horse]N _ _ alā...</td>\n",
       "    </tr>\n",
       "    <tr>\n",
       "      <th>X200001</th>\n",
       "      <td>X200001</td>\n",
       "      <td>7th century</td>\n",
       "      <td></td>\n",
       "      <td>Neo-Assyrian</td>\n",
       "      <td>uncertain</td>\n",
       "      <td>Akkadian</td>\n",
       "      <td>_ _ _ _ _ _ _ _ _ _ _ _ _ _ _ _ _ _ _ _ _ _ _ ...</td>\n",
       "    </tr>\n",
       "    <tr>\n",
       "      <th>X210106</th>\n",
       "      <td>X210106</td>\n",
       "      <td>647*-VI-13</td>\n",
       "      <td></td>\n",
       "      <td>Neo-Assyrian</td>\n",
       "      <td>Ashurbanipal</td>\n",
       "      <td>Akkadian</td>\n",
       "      <td>awātu[word]N šarru[king]N ana[to]PRP Hundaru[1...</td>\n",
       "    </tr>\n",
       "    <tr>\n",
       "      <th>X211891</th>\n",
       "      <td>X211891</td>\n",
       "      <td></td>\n",
       "      <td></td>\n",
       "      <td>Neo-Assyrian</td>\n",
       "      <td>Ashurbanipal</td>\n",
       "      <td>Akkadian</td>\n",
       "      <td>_ _ _ _ _ _ alāku[go]V _ _ _ _ _ _ _ ana[to]PR...</td>\n",
       "    </tr>\n",
       "    <tr>\n",
       "      <th>X900000</th>\n",
       "      <td>X900000</td>\n",
       "      <td></td>\n",
       "      <td></td>\n",
       "      <td>Neo-Assyrian</td>\n",
       "      <td></td>\n",
       "      <td>Akkadian</td>\n",
       "      <td>_ _ muṣlālu[siesta(-time)]N _ u[and]CNJ šattu[...</td>\n",
       "    </tr>\n",
       "  </tbody>\n",
       "</table>\n",
       "<p>7183 rows × 7 columns</p>\n",
       "</div>"
      ],
      "text/plain": [
       "         id_text         date date_of_origin        period  \\\n",
       "P223388  P223388  7th century                 Neo-Assyrian   \n",
       "P224378  P224378                              Neo-Assyrian   \n",
       "P224379  P224379                              Neo-Assyrian   \n",
       "P224380  P224380                              Neo-Assyrian   \n",
       "P224381  P224381                              Neo-Assyrian   \n",
       "...          ...          ...            ...           ...   \n",
       "X190191  X190191                              Neo-Assyrian   \n",
       "X200001  X200001  7th century                 Neo-Assyrian   \n",
       "X210106  X210106   647*-VI-13                 Neo-Assyrian   \n",
       "X211891  X211891                              Neo-Assyrian   \n",
       "X900000  X900000                              Neo-Assyrian   \n",
       "\n",
       "                       ruler  language  \\\n",
       "P223388            uncertain  Akkadian   \n",
       "P224378  Tiglath-pileser III  Akkadian   \n",
       "P224379            Sargon II  Akkadian   \n",
       "P224380  Tiglath-pileser III  Akkadian   \n",
       "P224381  Tiglath-pileser III  Akkadian   \n",
       "...                      ...       ...   \n",
       "X190191            Sargon II  Akkadian   \n",
       "X200001            uncertain  Akkadian   \n",
       "X210106         Ashurbanipal  Akkadian   \n",
       "X211891         Ashurbanipal  Akkadian   \n",
       "X900000                       Akkadian   \n",
       "\n",
       "                                                     lemma  \n",
       "P223388  mannu[who?]QP ana[to]PRP ša[that]REL taklu[rel...  \n",
       "P224378  ardu[slave]N _ _ _ _ _ ana[to]PRP dinānu[subst...  \n",
       "P224379  ana[to]PRP šarru[king]N bēlu[lord]N ardu[slave...  \n",
       "P224380  ana[to]PRP šarru[king]N bēlu[lord]N ardu[slave...  \n",
       "P224381  ana[to]PRP šarru[king]N bēlu[lord]N ardu[slave...  \n",
       "...                                                    ...  \n",
       "X190191  _ _ _ _ _ _ _ _ _ _ _ _ _ sisû[horse]N _ _ alā...  \n",
       "X200001  _ _ _ _ _ _ _ _ _ _ _ _ _ _ _ _ _ _ _ _ _ _ _ ...  \n",
       "X210106  awātu[word]N šarru[king]N ana[to]PRP Hundaru[1...  \n",
       "X211891  _ _ _ _ _ _ alāku[go]V _ _ _ _ _ _ _ ana[to]PR...  \n",
       "X900000  _ _ muṣlālu[siesta(-time)]N _ u[and]CNJ šattu[...  \n",
       "\n",
       "[7183 rows x 7 columns]"
      ]
     },
     "execution_count": 4,
     "metadata": {},
     "output_type": "execute_result"
    }
   ],
   "source": [
    "#filter to a specific period\n",
    "Akkadianperiodlemma = dfperiodlemma[dfperiodlemma['period']=='Neo-Assyrian']\n",
    "Akkadianperiodlemma"
   ]
  },
  {
   "cell_type": "code",
   "execution_count": 5,
   "metadata": {
    "scrolled": false
   },
   "outputs": [
    {
     "data": {
      "text/html": [
       "<div>\n",
       "<style scoped>\n",
       "    .dataframe tbody tr th:only-of-type {\n",
       "        vertical-align: middle;\n",
       "    }\n",
       "\n",
       "    .dataframe tbody tr th {\n",
       "        vertical-align: top;\n",
       "    }\n",
       "\n",
       "    .dataframe thead th {\n",
       "        text-align: right;\n",
       "    }\n",
       "</style>\n",
       "<table border=\"1\" class=\"dataframe\">\n",
       "  <thead>\n",
       "    <tr style=\"text-align: right;\">\n",
       "      <th></th>\n",
       "      <th>id_text</th>\n",
       "      <th>date</th>\n",
       "      <th>date_of_origin</th>\n",
       "      <th>period</th>\n",
       "      <th>ruler</th>\n",
       "      <th>language</th>\n",
       "      <th>lemma</th>\n",
       "    </tr>\n",
       "  </thead>\n",
       "  <tbody>\n",
       "    <tr>\n",
       "      <th>P223388</th>\n",
       "      <td>P223388</td>\n",
       "      <td>7th century</td>\n",
       "      <td></td>\n",
       "      <td>Neo-Assyrian</td>\n",
       "      <td>uncertain</td>\n",
       "      <td>Akkadian</td>\n",
       "      <td>mannu[who?]QP ana[to]PRP ša[that]REL taklu[rel...</td>\n",
       "    </tr>\n",
       "    <tr>\n",
       "      <th>P224378</th>\n",
       "      <td>P224378</td>\n",
       "      <td></td>\n",
       "      <td></td>\n",
       "      <td>Neo-Assyrian</td>\n",
       "      <td>Tiglath-pileser III</td>\n",
       "      <td>Akkadian</td>\n",
       "      <td>ardu[slave]N _ _ _ _ _ ana[to]PRP dinānu[subst...</td>\n",
       "    </tr>\n",
       "    <tr>\n",
       "      <th>P224379</th>\n",
       "      <td>P224379</td>\n",
       "      <td></td>\n",
       "      <td></td>\n",
       "      <td>Neo-Assyrian</td>\n",
       "      <td>Sargon II</td>\n",
       "      <td>Akkadian</td>\n",
       "      <td>ana[to]PRP šarru[king]N bēlu[lord]N ardu[slave...</td>\n",
       "    </tr>\n",
       "    <tr>\n",
       "      <th>P224380</th>\n",
       "      <td>P224380</td>\n",
       "      <td></td>\n",
       "      <td></td>\n",
       "      <td>Neo-Assyrian</td>\n",
       "      <td>Tiglath-pileser III</td>\n",
       "      <td>Akkadian</td>\n",
       "      <td>ana[to]PRP šarru[king]N bēlu[lord]N ardu[slave...</td>\n",
       "    </tr>\n",
       "    <tr>\n",
       "      <th>P224381</th>\n",
       "      <td>P224381</td>\n",
       "      <td></td>\n",
       "      <td></td>\n",
       "      <td>Neo-Assyrian</td>\n",
       "      <td>Tiglath-pileser III</td>\n",
       "      <td>Akkadian</td>\n",
       "      <td>ana[to]PRP šarru[king]N bēlu[lord]N ardu[slave...</td>\n",
       "    </tr>\n",
       "    <tr>\n",
       "      <th>...</th>\n",
       "      <td>...</td>\n",
       "      <td>...</td>\n",
       "      <td>...</td>\n",
       "      <td>...</td>\n",
       "      <td>...</td>\n",
       "      <td>...</td>\n",
       "      <td>...</td>\n",
       "    </tr>\n",
       "    <tr>\n",
       "      <th>X190191</th>\n",
       "      <td>X190191</td>\n",
       "      <td></td>\n",
       "      <td></td>\n",
       "      <td>Neo-Assyrian</td>\n",
       "      <td>Sargon II</td>\n",
       "      <td>Akkadian</td>\n",
       "      <td>_ _ _ _ _ _ _ _ _ _ _ _ _ sisû[horse]N _ _ alā...</td>\n",
       "    </tr>\n",
       "    <tr>\n",
       "      <th>X200001</th>\n",
       "      <td>X200001</td>\n",
       "      <td>7th century</td>\n",
       "      <td></td>\n",
       "      <td>Neo-Assyrian</td>\n",
       "      <td>uncertain</td>\n",
       "      <td>Akkadian</td>\n",
       "      <td>_ _ _ _ _ _ _ _ _ _ _ _ _ _ _ _ _ _ _ _ _ _ _ ...</td>\n",
       "    </tr>\n",
       "    <tr>\n",
       "      <th>X210106</th>\n",
       "      <td>X210106</td>\n",
       "      <td>647*-VI-13</td>\n",
       "      <td></td>\n",
       "      <td>Neo-Assyrian</td>\n",
       "      <td>Ashurbanipal</td>\n",
       "      <td>Akkadian</td>\n",
       "      <td>awātu[word]N šarru[king]N ana[to]PRP Hundaru[1...</td>\n",
       "    </tr>\n",
       "    <tr>\n",
       "      <th>X211891</th>\n",
       "      <td>X211891</td>\n",
       "      <td></td>\n",
       "      <td></td>\n",
       "      <td>Neo-Assyrian</td>\n",
       "      <td>Ashurbanipal</td>\n",
       "      <td>Akkadian</td>\n",
       "      <td>_ _ _ _ _ _ alāku[go]V _ _ _ _ _ _ _ ana[to]PR...</td>\n",
       "    </tr>\n",
       "    <tr>\n",
       "      <th>X900000</th>\n",
       "      <td>X900000</td>\n",
       "      <td></td>\n",
       "      <td></td>\n",
       "      <td>Neo-Assyrian</td>\n",
       "      <td></td>\n",
       "      <td>Akkadian</td>\n",
       "      <td>_ _ muṣlālu[siesta(-time)]N _ u[and]CNJ šattu[...</td>\n",
       "    </tr>\n",
       "  </tbody>\n",
       "</table>\n",
       "<p>6812 rows × 7 columns</p>\n",
       "</div>"
      ],
      "text/plain": [
       "         id_text         date date_of_origin        period  \\\n",
       "P223388  P223388  7th century                 Neo-Assyrian   \n",
       "P224378  P224378                              Neo-Assyrian   \n",
       "P224379  P224379                              Neo-Assyrian   \n",
       "P224380  P224380                              Neo-Assyrian   \n",
       "P224381  P224381                              Neo-Assyrian   \n",
       "...          ...          ...            ...           ...   \n",
       "X190191  X190191                              Neo-Assyrian   \n",
       "X200001  X200001  7th century                 Neo-Assyrian   \n",
       "X210106  X210106   647*-VI-13                 Neo-Assyrian   \n",
       "X211891  X211891                              Neo-Assyrian   \n",
       "X900000  X900000                              Neo-Assyrian   \n",
       "\n",
       "                       ruler  language  \\\n",
       "P223388            uncertain  Akkadian   \n",
       "P224378  Tiglath-pileser III  Akkadian   \n",
       "P224379            Sargon II  Akkadian   \n",
       "P224380  Tiglath-pileser III  Akkadian   \n",
       "P224381  Tiglath-pileser III  Akkadian   \n",
       "...                      ...       ...   \n",
       "X190191            Sargon II  Akkadian   \n",
       "X200001            uncertain  Akkadian   \n",
       "X210106         Ashurbanipal  Akkadian   \n",
       "X211891         Ashurbanipal  Akkadian   \n",
       "X900000                       Akkadian   \n",
       "\n",
       "                                                     lemma  \n",
       "P223388  mannu[who?]QP ana[to]PRP ša[that]REL taklu[rel...  \n",
       "P224378  ardu[slave]N _ _ _ _ _ ana[to]PRP dinānu[subst...  \n",
       "P224379  ana[to]PRP šarru[king]N bēlu[lord]N ardu[slave...  \n",
       "P224380  ana[to]PRP šarru[king]N bēlu[lord]N ardu[slave...  \n",
       "P224381  ana[to]PRP šarru[king]N bēlu[lord]N ardu[slave...  \n",
       "...                                                    ...  \n",
       "X190191  _ _ _ _ _ _ _ _ _ _ _ _ _ sisû[horse]N _ _ alā...  \n",
       "X200001  _ _ _ _ _ _ _ _ _ _ _ _ _ _ _ _ _ _ _ _ _ _ _ ...  \n",
       "X210106  awātu[word]N šarru[king]N ana[to]PRP Hundaru[1...  \n",
       "X211891  _ _ _ _ _ _ alāku[go]V _ _ _ _ _ _ _ ana[to]PR...  \n",
       "X900000  _ _ muṣlālu[siesta(-time)]N _ u[and]CNJ šattu[...  \n",
       "\n",
       "[6812 rows x 7 columns]"
      ]
     },
     "execution_count": 5,
     "metadata": {},
     "output_type": "execute_result"
    }
   ],
   "source": [
    "neoasslemma = Akkadianperiodlemma[Akkadianperiodlemma['language']=='Akkadian']\n",
    "neoasslemma\n"
   ]
  },
  {
   "cell_type": "code",
   "execution_count": 6,
   "metadata": {},
   "outputs": [
    {
     "data": {
      "text/html": [
       "<div>\n",
       "<style scoped>\n",
       "    .dataframe tbody tr th:only-of-type {\n",
       "        vertical-align: middle;\n",
       "    }\n",
       "\n",
       "    .dataframe tbody tr th {\n",
       "        vertical-align: top;\n",
       "    }\n",
       "\n",
       "    .dataframe thead th {\n",
       "        text-align: right;\n",
       "    }\n",
       "</style>\n",
       "<table border=\"1\" class=\"dataframe\">\n",
       "  <thead>\n",
       "    <tr style=\"text-align: right;\">\n",
       "      <th></th>\n",
       "      <th>id_text</th>\n",
       "      <th>lemma</th>\n",
       "    </tr>\n",
       "  </thead>\n",
       "  <tbody>\n",
       "    <tr>\n",
       "      <th>P223388</th>\n",
       "      <td>P223388</td>\n",
       "      <td>mannu[who?]QP ana[to]PRP ša[that]REL taklu[rel...</td>\n",
       "    </tr>\n",
       "    <tr>\n",
       "      <th>P224378</th>\n",
       "      <td>P224378</td>\n",
       "      <td>ardu[slave]N _ _ _ _ _ ana[to]PRP dinānu[subst...</td>\n",
       "    </tr>\n",
       "    <tr>\n",
       "      <th>P224379</th>\n",
       "      <td>P224379</td>\n",
       "      <td>ana[to]PRP šarru[king]N bēlu[lord]N ardu[slave...</td>\n",
       "    </tr>\n",
       "    <tr>\n",
       "      <th>P224380</th>\n",
       "      <td>P224380</td>\n",
       "      <td>ana[to]PRP šarru[king]N bēlu[lord]N ardu[slave...</td>\n",
       "    </tr>\n",
       "    <tr>\n",
       "      <th>P224381</th>\n",
       "      <td>P224381</td>\n",
       "      <td>ana[to]PRP šarru[king]N bēlu[lord]N ardu[slave...</td>\n",
       "    </tr>\n",
       "    <tr>\n",
       "      <th>...</th>\n",
       "      <td>...</td>\n",
       "      <td>...</td>\n",
       "    </tr>\n",
       "    <tr>\n",
       "      <th>X190191</th>\n",
       "      <td>X190191</td>\n",
       "      <td>_ _ _ _ _ _ _ _ _ _ _ _ _ sisû[horse]N _ _ alā...</td>\n",
       "    </tr>\n",
       "    <tr>\n",
       "      <th>X200001</th>\n",
       "      <td>X200001</td>\n",
       "      <td>_ _ _ _ _ _ _ _ _ _ _ _ _ _ _ _ _ _ _ _ _ _ _ ...</td>\n",
       "    </tr>\n",
       "    <tr>\n",
       "      <th>X210106</th>\n",
       "      <td>X210106</td>\n",
       "      <td>awātu[word]N šarru[king]N ana[to]PRP Hundaru[1...</td>\n",
       "    </tr>\n",
       "    <tr>\n",
       "      <th>X211891</th>\n",
       "      <td>X211891</td>\n",
       "      <td>_ _ _ _ _ _ alāku[go]V _ _ _ _ _ _ _ ana[to]PR...</td>\n",
       "    </tr>\n",
       "    <tr>\n",
       "      <th>X900000</th>\n",
       "      <td>X900000</td>\n",
       "      <td>_ _ muṣlālu[siesta(-time)]N _ u[and]CNJ šattu[...</td>\n",
       "    </tr>\n",
       "  </tbody>\n",
       "</table>\n",
       "<p>6812 rows × 2 columns</p>\n",
       "</div>"
      ],
      "text/plain": [
       "         id_text                                              lemma\n",
       "P223388  P223388  mannu[who?]QP ana[to]PRP ša[that]REL taklu[rel...\n",
       "P224378  P224378  ardu[slave]N _ _ _ _ _ ana[to]PRP dinānu[subst...\n",
       "P224379  P224379  ana[to]PRP šarru[king]N bēlu[lord]N ardu[slave...\n",
       "P224380  P224380  ana[to]PRP šarru[king]N bēlu[lord]N ardu[slave...\n",
       "P224381  P224381  ana[to]PRP šarru[king]N bēlu[lord]N ardu[slave...\n",
       "...          ...                                                ...\n",
       "X190191  X190191  _ _ _ _ _ _ _ _ _ _ _ _ _ sisû[horse]N _ _ alā...\n",
       "X200001  X200001  _ _ _ _ _ _ _ _ _ _ _ _ _ _ _ _ _ _ _ _ _ _ _ ...\n",
       "X210106  X210106  awātu[word]N šarru[king]N ana[to]PRP Hundaru[1...\n",
       "X211891  X211891  _ _ _ _ _ _ alāku[go]V _ _ _ _ _ _ _ ana[to]PR...\n",
       "X900000  X900000  _ _ muṣlālu[siesta(-time)]N _ u[and]CNJ šattu[...\n",
       "\n",
       "[6812 rows x 2 columns]"
      ]
     },
     "execution_count": 6,
     "metadata": {},
     "output_type": "execute_result"
    }
   ],
   "source": [
    "Cleanperiodlemma = neoasslemma[['id_text', 'lemma']]\n",
    "Cleanperiodlemma"
   ]
  },
  {
   "cell_type": "code",
   "execution_count": 7,
   "metadata": {},
   "outputs": [
    {
     "data": {
      "text/html": [
       "<div>\n",
       "<style scoped>\n",
       "    .dataframe tbody tr th:only-of-type {\n",
       "        vertical-align: middle;\n",
       "    }\n",
       "\n",
       "    .dataframe tbody tr th {\n",
       "        vertical-align: top;\n",
       "    }\n",
       "\n",
       "    .dataframe thead th {\n",
       "        text-align: right;\n",
       "    }\n",
       "</style>\n",
       "<table border=\"1\" class=\"dataframe\">\n",
       "  <thead>\n",
       "    <tr style=\"text-align: right;\">\n",
       "      <th></th>\n",
       "      <th>id_text</th>\n",
       "      <th>lemma</th>\n",
       "    </tr>\n",
       "  </thead>\n",
       "  <tbody>\n",
       "    <tr>\n",
       "      <th>P223388</th>\n",
       "      <td>P223388</td>\n",
       "      <td>mannu[who?]QP ana[to]PRP ša[that]REL taklu[rel...</td>\n",
       "    </tr>\n",
       "    <tr>\n",
       "      <th>P224378</th>\n",
       "      <td>P224378</td>\n",
       "      <td>ardu[slave]N _ _ _ _ _ ana[to]PRP dinānu[subst...</td>\n",
       "    </tr>\n",
       "    <tr>\n",
       "      <th>P224379</th>\n",
       "      <td>P224379</td>\n",
       "      <td>ana[to]PRP šarru[king]N bēlu[lord]N ardu[slave...</td>\n",
       "    </tr>\n",
       "    <tr>\n",
       "      <th>P224380</th>\n",
       "      <td>P224380</td>\n",
       "      <td>ana[to]PRP šarru[king]N bēlu[lord]N ardu[slave...</td>\n",
       "    </tr>\n",
       "    <tr>\n",
       "      <th>P224381</th>\n",
       "      <td>P224381</td>\n",
       "      <td>ana[to]PRP šarru[king]N bēlu[lord]N ardu[slave...</td>\n",
       "    </tr>\n",
       "    <tr>\n",
       "      <th>...</th>\n",
       "      <td>...</td>\n",
       "      <td>...</td>\n",
       "    </tr>\n",
       "    <tr>\n",
       "      <th>X190191</th>\n",
       "      <td>X190191</td>\n",
       "      <td>_ _ _ _ _ _ _ _ _ _ _ _ _ sisû[horse]N _ _ alā...</td>\n",
       "    </tr>\n",
       "    <tr>\n",
       "      <th>X200001</th>\n",
       "      <td>X200001</td>\n",
       "      <td>_ _ _ _ _ _ _ _ _ _ _ _ _ _ _ _ _ _ _ _ _ _ _ ...</td>\n",
       "    </tr>\n",
       "    <tr>\n",
       "      <th>X210106</th>\n",
       "      <td>X210106</td>\n",
       "      <td>awātu[word]N šarru[king]N ana[to]PRP Hundaru[1...</td>\n",
       "    </tr>\n",
       "    <tr>\n",
       "      <th>X211891</th>\n",
       "      <td>X211891</td>\n",
       "      <td>_ _ _ _ _ _ alāku[go]V _ _ _ _ _ _ _ ana[to]PR...</td>\n",
       "    </tr>\n",
       "    <tr>\n",
       "      <th>X900000</th>\n",
       "      <td>X900000</td>\n",
       "      <td>_ _ muṣlālu[siesta(-time)]N _ u[and]CNJ šattu[...</td>\n",
       "    </tr>\n",
       "  </tbody>\n",
       "</table>\n",
       "<p>6103 rows × 2 columns</p>\n",
       "</div>"
      ],
      "text/plain": [
       "         id_text                                              lemma\n",
       "P223388  P223388  mannu[who?]QP ana[to]PRP ša[that]REL taklu[rel...\n",
       "P224378  P224378  ardu[slave]N _ _ _ _ _ ana[to]PRP dinānu[subst...\n",
       "P224379  P224379  ana[to]PRP šarru[king]N bēlu[lord]N ardu[slave...\n",
       "P224380  P224380  ana[to]PRP šarru[king]N bēlu[lord]N ardu[slave...\n",
       "P224381  P224381  ana[to]PRP šarru[king]N bēlu[lord]N ardu[slave...\n",
       "...          ...                                                ...\n",
       "X190191  X190191  _ _ _ _ _ _ _ _ _ _ _ _ _ sisû[horse]N _ _ alā...\n",
       "X200001  X200001  _ _ _ _ _ _ _ _ _ _ _ _ _ _ _ _ _ _ _ _ _ _ _ ...\n",
       "X210106  X210106  awātu[word]N šarru[king]N ana[to]PRP Hundaru[1...\n",
       "X211891  X211891  _ _ _ _ _ _ alāku[go]V _ _ _ _ _ _ _ ana[to]PR...\n",
       "X900000  X900000  _ _ muṣlālu[siesta(-time)]N _ u[and]CNJ šattu[...\n",
       "\n",
       "[6103 rows x 2 columns]"
      ]
     },
     "execution_count": 7,
     "metadata": {},
     "output_type": "execute_result"
    }
   ],
   "source": [
    "#remove duplicate texts\n",
    "NeoAsslemmanoduplicates = Cleanperiodlemma.drop_duplicates(subset=['id_text', 'lemma'], keep='last')\n",
    "NeoAsslemmanoduplicates"
   ]
  },
  {
   "cell_type": "code",
   "execution_count": 8,
   "metadata": {},
   "outputs": [],
   "source": [
    "savefile =  '2020_8_31_all_oracc_Neoass_lemma_no_duplicates.csv'\n",
    "with open('output/' + savefile, 'w', encoding=\"utf-8\") as w:\n",
    "    NeoAsslemmanoduplicates.to_csv(w, index=False)"
   ]
  },
  {
   "cell_type": "code",
   "execution_count": null,
   "metadata": {},
   "outputs": [],
   "source": []
  }
 ],
 "metadata": {
  "kernelspec": {
   "display_name": "Python 3",
   "language": "python",
   "name": "python3"
  },
  "language_info": {
   "codemirror_mode": {
    "name": "ipython",
    "version": 3
   },
   "file_extension": ".py",
   "mimetype": "text/x-python",
   "name": "python",
   "nbconvert_exporter": "python",
   "pygments_lexer": "ipython3",
   "version": "3.7.3"
  }
 },
 "nbformat": 4,
 "nbformat_minor": 2
}
